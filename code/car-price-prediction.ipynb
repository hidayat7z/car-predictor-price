{
 "cells": [
  {
   "cell_type": "code",
   "execution_count": 1,
   "id": "b3910348",
   "metadata": {
    "_cell_guid": "b1076dfc-b9ad-4769-8c92-a6c4dae69d19",
    "_uuid": "8f2839f25d086af736a60e9eeb907d3b93b6e0e5",
    "execution": {
     "iopub.execute_input": "2021-09-28T08:19:15.378927Z",
     "iopub.status.busy": "2021-09-28T08:19:15.378253Z",
     "iopub.status.idle": "2021-09-28T08:19:15.393214Z",
     "shell.execute_reply": "2021-09-28T08:19:15.392478Z",
     "shell.execute_reply.started": "2021-09-27T19:40:28.545732Z"
    },
    "papermill": {
     "duration": 0.092159,
     "end_time": "2021-09-28T08:19:15.393397",
     "exception": false,
     "start_time": "2021-09-28T08:19:15.301238",
     "status": "completed"
    },
    "tags": []
   },
   "outputs": [
    {
     "name": "stdout",
     "output_type": "stream",
     "text": [
      "/kaggle/input/vehicle-dataset-from-cardekho/car data.csv\n",
      "/kaggle/input/vehicle-dataset-from-cardekho/CAR DETAILS FROM CAR DEKHO.csv\n",
      "/kaggle/input/vehicle-dataset-from-cardekho/Car details v3.csv\n"
     ]
    }
   ],
   "source": [
    "# This Python 3 environment comes with many helpful analytics libraries installed\n",
    "# It is defined by the kaggle/python Docker image: https://github.com/kaggle/docker-python\n",
    "# For example, here's several helpful packages to load\n",
    "\n",
    "import numpy as np # linear algebra\n",
    "import pandas as pd # data processing, CSV file I/O (e.g. pd.read_csv)\n",
    "\n",
    "# Input data files are available in the read-only \"../input/\" directory\n",
    "# For example, running this (by clicking run or pressing Shift+Enter) will list all files under the input directory\n",
    "\n",
    "import os\n",
    "for dirname, _, filenames in os.walk('/kaggle/input'):\n",
    "    for filename in filenames:\n",
    "        print(os.path.join(dirname, filename))\n",
    "\n",
    "# You can write up to 20GB to the current directory (/kaggle/working/) that gets preserved as output when you create a version using \"Save & Run All\" \n",
    "# You can also write temporary files to /kaggle/temp/, but they won't be saved outside of the current session"
   ]
  },
  {
   "cell_type": "code",
   "execution_count": 2,
   "id": "44ad5a82",
   "metadata": {
    "execution": {
     "iopub.execute_input": "2021-09-28T08:19:15.524384Z",
     "iopub.status.busy": "2021-09-28T08:19:15.523348Z",
     "iopub.status.idle": "2021-09-28T08:19:15.591121Z",
     "shell.execute_reply": "2021-09-28T08:19:15.590297Z",
     "shell.execute_reply.started": "2021-09-27T19:40:28.569406Z"
    },
    "papermill": {
     "duration": 0.134086,
     "end_time": "2021-09-28T08:19:15.591342",
     "exception": false,
     "start_time": "2021-09-28T08:19:15.457256",
     "status": "completed"
    },
    "tags": []
   },
   "outputs": [],
   "source": [
    "df= pd.read_csv('/kaggle/input/vehicle-dataset-from-cardekho/Car details v3.csv')"
   ]
  },
  {
   "cell_type": "code",
   "execution_count": 3,
   "id": "de085ebf",
   "metadata": {
    "execution": {
     "iopub.execute_input": "2021-09-28T08:19:15.733220Z",
     "iopub.status.busy": "2021-09-28T08:19:15.732551Z",
     "iopub.status.idle": "2021-09-28T08:19:15.753855Z",
     "shell.execute_reply": "2021-09-28T08:19:15.754345Z",
     "shell.execute_reply.started": "2021-09-27T19:40:28.622066Z"
    },
    "papermill": {
     "duration": 0.092213,
     "end_time": "2021-09-28T08:19:15.754518",
     "exception": false,
     "start_time": "2021-09-28T08:19:15.662305",
     "status": "completed"
    },
    "tags": []
   },
   "outputs": [
    {
     "data": {
      "text/html": [
       "<div>\n",
       "<style scoped>\n",
       "    .dataframe tbody tr th:only-of-type {\n",
       "        vertical-align: middle;\n",
       "    }\n",
       "\n",
       "    .dataframe tbody tr th {\n",
       "        vertical-align: top;\n",
       "    }\n",
       "\n",
       "    .dataframe thead th {\n",
       "        text-align: right;\n",
       "    }\n",
       "</style>\n",
       "<table border=\"1\" class=\"dataframe\">\n",
       "  <thead>\n",
       "    <tr style=\"text-align: right;\">\n",
       "      <th></th>\n",
       "      <th>name</th>\n",
       "      <th>year</th>\n",
       "      <th>selling_price</th>\n",
       "      <th>km_driven</th>\n",
       "      <th>fuel</th>\n",
       "      <th>seller_type</th>\n",
       "      <th>transmission</th>\n",
       "      <th>owner</th>\n",
       "      <th>mileage</th>\n",
       "      <th>engine</th>\n",
       "      <th>max_power</th>\n",
       "      <th>torque</th>\n",
       "      <th>seats</th>\n",
       "    </tr>\n",
       "  </thead>\n",
       "  <tbody>\n",
       "    <tr>\n",
       "      <th>0</th>\n",
       "      <td>Maruti Swift Dzire VDI</td>\n",
       "      <td>2014</td>\n",
       "      <td>450000</td>\n",
       "      <td>145500</td>\n",
       "      <td>Diesel</td>\n",
       "      <td>Individual</td>\n",
       "      <td>Manual</td>\n",
       "      <td>First Owner</td>\n",
       "      <td>23.4 kmpl</td>\n",
       "      <td>1248 CC</td>\n",
       "      <td>74 bhp</td>\n",
       "      <td>190Nm@ 2000rpm</td>\n",
       "      <td>5.0</td>\n",
       "    </tr>\n",
       "    <tr>\n",
       "      <th>1</th>\n",
       "      <td>Skoda Rapid 1.5 TDI Ambition</td>\n",
       "      <td>2014</td>\n",
       "      <td>370000</td>\n",
       "      <td>120000</td>\n",
       "      <td>Diesel</td>\n",
       "      <td>Individual</td>\n",
       "      <td>Manual</td>\n",
       "      <td>Second Owner</td>\n",
       "      <td>21.14 kmpl</td>\n",
       "      <td>1498 CC</td>\n",
       "      <td>103.52 bhp</td>\n",
       "      <td>250Nm@ 1500-2500rpm</td>\n",
       "      <td>5.0</td>\n",
       "    </tr>\n",
       "    <tr>\n",
       "      <th>2</th>\n",
       "      <td>Honda City 2017-2020 EXi</td>\n",
       "      <td>2006</td>\n",
       "      <td>158000</td>\n",
       "      <td>140000</td>\n",
       "      <td>Petrol</td>\n",
       "      <td>Individual</td>\n",
       "      <td>Manual</td>\n",
       "      <td>Third Owner</td>\n",
       "      <td>17.7 kmpl</td>\n",
       "      <td>1497 CC</td>\n",
       "      <td>78 bhp</td>\n",
       "      <td>12.7@ 2,700(kgm@ rpm)</td>\n",
       "      <td>5.0</td>\n",
       "    </tr>\n",
       "    <tr>\n",
       "      <th>3</th>\n",
       "      <td>Hyundai i20 Sportz Diesel</td>\n",
       "      <td>2010</td>\n",
       "      <td>225000</td>\n",
       "      <td>127000</td>\n",
       "      <td>Diesel</td>\n",
       "      <td>Individual</td>\n",
       "      <td>Manual</td>\n",
       "      <td>First Owner</td>\n",
       "      <td>23.0 kmpl</td>\n",
       "      <td>1396 CC</td>\n",
       "      <td>90 bhp</td>\n",
       "      <td>22.4 kgm at 1750-2750rpm</td>\n",
       "      <td>5.0</td>\n",
       "    </tr>\n",
       "    <tr>\n",
       "      <th>4</th>\n",
       "      <td>Maruti Swift VXI BSIII</td>\n",
       "      <td>2007</td>\n",
       "      <td>130000</td>\n",
       "      <td>120000</td>\n",
       "      <td>Petrol</td>\n",
       "      <td>Individual</td>\n",
       "      <td>Manual</td>\n",
       "      <td>First Owner</td>\n",
       "      <td>16.1 kmpl</td>\n",
       "      <td>1298 CC</td>\n",
       "      <td>88.2 bhp</td>\n",
       "      <td>11.5@ 4,500(kgm@ rpm)</td>\n",
       "      <td>5.0</td>\n",
       "    </tr>\n",
       "  </tbody>\n",
       "</table>\n",
       "</div>"
      ],
      "text/plain": [
       "                           name  year  selling_price  km_driven    fuel  \\\n",
       "0        Maruti Swift Dzire VDI  2014         450000     145500  Diesel   \n",
       "1  Skoda Rapid 1.5 TDI Ambition  2014         370000     120000  Diesel   \n",
       "2      Honda City 2017-2020 EXi  2006         158000     140000  Petrol   \n",
       "3     Hyundai i20 Sportz Diesel  2010         225000     127000  Diesel   \n",
       "4        Maruti Swift VXI BSIII  2007         130000     120000  Petrol   \n",
       "\n",
       "  seller_type transmission         owner     mileage   engine   max_power  \\\n",
       "0  Individual       Manual   First Owner   23.4 kmpl  1248 CC      74 bhp   \n",
       "1  Individual       Manual  Second Owner  21.14 kmpl  1498 CC  103.52 bhp   \n",
       "2  Individual       Manual   Third Owner   17.7 kmpl  1497 CC      78 bhp   \n",
       "3  Individual       Manual   First Owner   23.0 kmpl  1396 CC      90 bhp   \n",
       "4  Individual       Manual   First Owner   16.1 kmpl  1298 CC    88.2 bhp   \n",
       "\n",
       "                     torque  seats  \n",
       "0            190Nm@ 2000rpm    5.0  \n",
       "1       250Nm@ 1500-2500rpm    5.0  \n",
       "2     12.7@ 2,700(kgm@ rpm)    5.0  \n",
       "3  22.4 kgm at 1750-2750rpm    5.0  \n",
       "4     11.5@ 4,500(kgm@ rpm)    5.0  "
      ]
     },
     "execution_count": 3,
     "metadata": {},
     "output_type": "execute_result"
    }
   ],
   "source": [
    "df.head()"
   ]
  },
  {
   "cell_type": "code",
   "execution_count": 4,
   "id": "7b6c77ba",
   "metadata": {
    "execution": {
     "iopub.execute_input": "2021-09-28T08:19:15.880790Z",
     "iopub.status.busy": "2021-09-28T08:19:15.880133Z",
     "iopub.status.idle": "2021-09-28T08:19:15.883283Z",
     "shell.execute_reply": "2021-09-28T08:19:15.882768Z",
     "shell.execute_reply.started": "2021-09-27T19:40:28.65868Z"
    },
    "papermill": {
     "duration": 0.068196,
     "end_time": "2021-09-28T08:19:15.883428",
     "exception": false,
     "start_time": "2021-09-28T08:19:15.815232",
     "status": "completed"
    },
    "tags": []
   },
   "outputs": [],
   "source": [
    "### FIRST STEP:: Checking for null values"
   ]
  },
  {
   "cell_type": "code",
   "execution_count": 5,
   "id": "889d126a",
   "metadata": {
    "execution": {
     "iopub.execute_input": "2021-09-28T08:19:16.019970Z",
     "iopub.status.busy": "2021-09-28T08:19:16.013348Z",
     "iopub.status.idle": "2021-09-28T08:19:16.027556Z",
     "shell.execute_reply": "2021-09-28T08:19:16.026967Z",
     "shell.execute_reply.started": "2021-09-27T19:40:28.664329Z"
    },
    "papermill": {
     "duration": 0.083159,
     "end_time": "2021-09-28T08:19:16.027699",
     "exception": false,
     "start_time": "2021-09-28T08:19:15.944540",
     "status": "completed"
    },
    "tags": []
   },
   "outputs": [
    {
     "data": {
      "text/plain": [
       "name               0\n",
       "year               0\n",
       "selling_price      0\n",
       "km_driven          0\n",
       "fuel               0\n",
       "seller_type        0\n",
       "transmission       0\n",
       "owner              0\n",
       "mileage          221\n",
       "engine           221\n",
       "max_power        215\n",
       "torque           222\n",
       "seats            221\n",
       "dtype: int64"
      ]
     },
     "execution_count": 5,
     "metadata": {},
     "output_type": "execute_result"
    }
   ],
   "source": [
    "df.isnull().sum()"
   ]
  },
  {
   "cell_type": "code",
   "execution_count": 6,
   "id": "9ef63f6c",
   "metadata": {
    "execution": {
     "iopub.execute_input": "2021-09-28T08:19:16.156972Z",
     "iopub.status.busy": "2021-09-28T08:19:16.156302Z",
     "iopub.status.idle": "2021-09-28T08:19:16.161679Z",
     "shell.execute_reply": "2021-09-28T08:19:16.161097Z",
     "shell.execute_reply.started": "2021-09-27T19:40:28.690571Z"
    },
    "papermill": {
     "duration": 0.071214,
     "end_time": "2021-09-28T08:19:16.161815",
     "exception": false,
     "start_time": "2021-09-28T08:19:16.090601",
     "status": "completed"
    },
    "tags": []
   },
   "outputs": [
    {
     "data": {
      "text/plain": [
       "(8128, 13)"
      ]
     },
     "execution_count": 6,
     "metadata": {},
     "output_type": "execute_result"
    }
   ],
   "source": [
    "df.shape"
   ]
  },
  {
   "cell_type": "code",
   "execution_count": 7,
   "id": "d9aeec4e",
   "metadata": {
    "execution": {
     "iopub.execute_input": "2021-09-28T08:19:16.293091Z",
     "iopub.status.busy": "2021-09-28T08:19:16.292392Z",
     "iopub.status.idle": "2021-09-28T08:19:16.309782Z",
     "shell.execute_reply": "2021-09-28T08:19:16.310279Z",
     "shell.execute_reply.started": "2021-09-27T19:40:28.699161Z"
    },
    "papermill": {
     "duration": 0.085942,
     "end_time": "2021-09-28T08:19:16.310460",
     "exception": false,
     "start_time": "2021-09-28T08:19:16.224518",
     "status": "completed"
    },
    "tags": []
   },
   "outputs": [
    {
     "data": {
      "text/plain": [
       "(7906, 13)"
      ]
     },
     "execution_count": 7,
     "metadata": {},
     "output_type": "execute_result"
    }
   ],
   "source": [
    "df.dropna().shape"
   ]
  },
  {
   "cell_type": "code",
   "execution_count": 8,
   "id": "7114058b",
   "metadata": {
    "execution": {
     "iopub.execute_input": "2021-09-28T08:19:16.439616Z",
     "iopub.status.busy": "2021-09-28T08:19:16.438941Z",
     "iopub.status.idle": "2021-09-28T08:19:16.444532Z",
     "shell.execute_reply": "2021-09-28T08:19:16.445098Z",
     "shell.execute_reply.started": "2021-09-27T19:40:28.728677Z"
    },
    "papermill": {
     "duration": 0.07273,
     "end_time": "2021-09-28T08:19:16.445547",
     "exception": false,
     "start_time": "2021-09-28T08:19:16.372817",
     "status": "completed"
    },
    "tags": []
   },
   "outputs": [
    {
     "data": {
      "text/plain": [
       "2.731299212598425"
      ]
     },
     "execution_count": 8,
     "metadata": {},
     "output_type": "execute_result"
    }
   ],
   "source": [
    "((8128-7906)/8128)*100\n",
    "\n",
    "##this is the % of data we are removing...As it is not much, we can go ahead and delete it."
   ]
  },
  {
   "cell_type": "code",
   "execution_count": 9,
   "id": "01a1a6b8",
   "metadata": {
    "execution": {
     "iopub.execute_input": "2021-09-28T08:19:16.586154Z",
     "iopub.status.busy": "2021-09-28T08:19:16.585085Z",
     "iopub.status.idle": "2021-09-28T08:19:16.592200Z",
     "shell.execute_reply": "2021-09-28T08:19:16.591569Z",
     "shell.execute_reply.started": "2021-09-27T19:40:28.737756Z"
    },
    "papermill": {
     "duration": 0.082758,
     "end_time": "2021-09-28T08:19:16.592344",
     "exception": false,
     "start_time": "2021-09-28T08:19:16.509586",
     "status": "completed"
    },
    "tags": []
   },
   "outputs": [],
   "source": [
    "df.dropna(inplace=True)\n",
    "\n",
    "##any row containing a single or more null values will get deletd"
   ]
  },
  {
   "cell_type": "code",
   "execution_count": 10,
   "id": "7a74e8f3",
   "metadata": {
    "execution": {
     "iopub.execute_input": "2021-09-28T08:19:16.754557Z",
     "iopub.status.busy": "2021-09-28T08:19:16.753714Z",
     "iopub.status.idle": "2021-09-28T08:19:16.758235Z",
     "shell.execute_reply": "2021-09-28T08:19:16.757574Z",
     "shell.execute_reply.started": "2021-09-27T19:40:28.805145Z"
    },
    "papermill": {
     "duration": 0.094772,
     "end_time": "2021-09-28T08:19:16.758378",
     "exception": false,
     "start_time": "2021-09-28T08:19:16.663606",
     "status": "completed"
    },
    "tags": []
   },
   "outputs": [
    {
     "data": {
      "text/plain": [
       "(7906, 13)"
      ]
     },
     "execution_count": 10,
     "metadata": {},
     "output_type": "execute_result"
    }
   ],
   "source": [
    "df.shape"
   ]
  },
  {
   "cell_type": "code",
   "execution_count": 11,
   "id": "a8bf65f8",
   "metadata": {
    "execution": {
     "iopub.execute_input": "2021-09-28T08:19:16.889469Z",
     "iopub.status.busy": "2021-09-28T08:19:16.888414Z",
     "iopub.status.idle": "2021-09-28T08:19:16.891855Z",
     "shell.execute_reply": "2021-09-28T08:19:16.892333Z",
     "shell.execute_reply.started": "2021-09-27T19:40:28.813874Z"
    },
    "papermill": {
     "duration": 0.070758,
     "end_time": "2021-09-28T08:19:16.892511",
     "exception": false,
     "start_time": "2021-09-28T08:19:16.821753",
     "status": "completed"
    },
    "tags": []
   },
   "outputs": [],
   "source": [
    "### SECOND STEP:: Checking for duplicated values"
   ]
  },
  {
   "cell_type": "code",
   "execution_count": 12,
   "id": "20fd9883",
   "metadata": {
    "execution": {
     "iopub.execute_input": "2021-09-28T08:19:17.030855Z",
     "iopub.status.busy": "2021-09-28T08:19:17.023401Z",
     "iopub.status.idle": "2021-09-28T08:19:17.048274Z",
     "shell.execute_reply": "2021-09-28T08:19:17.048810Z",
     "shell.execute_reply.started": "2021-09-27T19:40:28.824422Z"
    },
    "papermill": {
     "duration": 0.093323,
     "end_time": "2021-09-28T08:19:17.048998",
     "exception": false,
     "start_time": "2021-09-28T08:19:16.955675",
     "status": "completed"
    },
    "tags": []
   },
   "outputs": [
    {
     "data": {
      "text/plain": [
       "1189"
      ]
     },
     "execution_count": 12,
     "metadata": {},
     "output_type": "execute_result"
    }
   ],
   "source": [
    "df.duplicated().sum()"
   ]
  },
  {
   "cell_type": "code",
   "execution_count": 13,
   "id": "5f82a1cf",
   "metadata": {
    "execution": {
     "iopub.execute_input": "2021-09-28T08:19:17.179357Z",
     "iopub.status.busy": "2021-09-28T08:19:17.178675Z",
     "iopub.status.idle": "2021-09-28T08:19:17.194212Z",
     "shell.execute_reply": "2021-09-28T08:19:17.194698Z",
     "shell.execute_reply.started": "2021-09-27T19:40:28.858508Z"
    },
    "papermill": {
     "duration": 0.081461,
     "end_time": "2021-09-28T08:19:17.194934",
     "exception": false,
     "start_time": "2021-09-28T08:19:17.113473",
     "status": "completed"
    },
    "tags": []
   },
   "outputs": [],
   "source": [
    "df.drop_duplicates(keep='first',inplace=True)"
   ]
  },
  {
   "cell_type": "code",
   "execution_count": 14,
   "id": "0e953731",
   "metadata": {
    "execution": {
     "iopub.execute_input": "2021-09-28T08:19:17.327154Z",
     "iopub.status.busy": "2021-09-28T08:19:17.326331Z",
     "iopub.status.idle": "2021-09-28T08:19:17.329585Z",
     "shell.execute_reply": "2021-09-28T08:19:17.330134Z",
     "shell.execute_reply.started": "2021-09-27T19:40:28.878785Z"
    },
    "papermill": {
     "duration": 0.072185,
     "end_time": "2021-09-28T08:19:17.330311",
     "exception": false,
     "start_time": "2021-09-28T08:19:17.258126",
     "status": "completed"
    },
    "tags": []
   },
   "outputs": [
    {
     "data": {
      "text/plain": [
       "(6717, 13)"
      ]
     },
     "execution_count": 14,
     "metadata": {},
     "output_type": "execute_result"
    }
   ],
   "source": [
    "df.shape"
   ]
  },
  {
   "cell_type": "code",
   "execution_count": 15,
   "id": "76138223",
   "metadata": {
    "execution": {
     "iopub.execute_input": "2021-09-28T08:19:17.462324Z",
     "iopub.status.busy": "2021-09-28T08:19:17.461322Z",
     "iopub.status.idle": "2021-09-28T08:19:17.478223Z",
     "shell.execute_reply": "2021-09-28T08:19:17.477708Z",
     "shell.execute_reply.started": "2021-09-27T19:40:28.887199Z"
    },
    "papermill": {
     "duration": 0.084003,
     "end_time": "2021-09-28T08:19:17.478366",
     "exception": false,
     "start_time": "2021-09-28T08:19:17.394363",
     "status": "completed"
    },
    "tags": []
   },
   "outputs": [
    {
     "data": {
      "text/plain": [
       "0"
      ]
     },
     "execution_count": 15,
     "metadata": {},
     "output_type": "execute_result"
    }
   ],
   "source": [
    "df.duplicated().sum()"
   ]
  },
  {
   "cell_type": "code",
   "execution_count": 16,
   "id": "b8dbf4c2",
   "metadata": {
    "execution": {
     "iopub.execute_input": "2021-09-28T08:19:17.618445Z",
     "iopub.status.busy": "2021-09-28T08:19:17.617270Z",
     "iopub.status.idle": "2021-09-28T08:19:17.624506Z",
     "shell.execute_reply": "2021-09-28T08:19:17.624963Z",
     "shell.execute_reply.started": "2021-09-27T19:40:28.911713Z"
    },
    "papermill": {
     "duration": 0.083258,
     "end_time": "2021-09-28T08:19:17.625154",
     "exception": false,
     "start_time": "2021-09-28T08:19:17.541896",
     "status": "completed"
    },
    "tags": []
   },
   "outputs": [
    {
     "data": {
      "text/plain": [
       "name             0\n",
       "year             0\n",
       "selling_price    0\n",
       "km_driven        0\n",
       "fuel             0\n",
       "seller_type      0\n",
       "transmission     0\n",
       "owner            0\n",
       "mileage          0\n",
       "engine           0\n",
       "max_power        0\n",
       "torque           0\n",
       "seats            0\n",
       "dtype: int64"
      ]
     },
     "execution_count": 16,
     "metadata": {},
     "output_type": "execute_result"
    }
   ],
   "source": [
    "df.isnull().sum()"
   ]
  },
  {
   "cell_type": "code",
   "execution_count": 17,
   "id": "cf6246e0",
   "metadata": {
    "execution": {
     "iopub.execute_input": "2021-09-28T08:19:17.769969Z",
     "iopub.status.busy": "2021-09-28T08:19:17.755851Z",
     "iopub.status.idle": "2021-09-28T08:19:17.773914Z",
     "shell.execute_reply": "2021-09-28T08:19:17.773370Z",
     "shell.execute_reply.started": "2021-09-27T19:40:28.934391Z"
    },
    "papermill": {
     "duration": 0.084956,
     "end_time": "2021-09-28T08:19:17.774079",
     "exception": false,
     "start_time": "2021-09-28T08:19:17.689123",
     "status": "completed"
    },
    "tags": []
   },
   "outputs": [
    {
     "data": {
      "text/html": [
       "<div>\n",
       "<style scoped>\n",
       "    .dataframe tbody tr th:only-of-type {\n",
       "        vertical-align: middle;\n",
       "    }\n",
       "\n",
       "    .dataframe tbody tr th {\n",
       "        vertical-align: top;\n",
       "    }\n",
       "\n",
       "    .dataframe thead th {\n",
       "        text-align: right;\n",
       "    }\n",
       "</style>\n",
       "<table border=\"1\" class=\"dataframe\">\n",
       "  <thead>\n",
       "    <tr style=\"text-align: right;\">\n",
       "      <th></th>\n",
       "      <th>name</th>\n",
       "      <th>year</th>\n",
       "      <th>selling_price</th>\n",
       "      <th>km_driven</th>\n",
       "      <th>fuel</th>\n",
       "      <th>seller_type</th>\n",
       "      <th>transmission</th>\n",
       "      <th>owner</th>\n",
       "      <th>mileage</th>\n",
       "      <th>engine</th>\n",
       "      <th>max_power</th>\n",
       "      <th>torque</th>\n",
       "      <th>seats</th>\n",
       "    </tr>\n",
       "  </thead>\n",
       "  <tbody>\n",
       "    <tr>\n",
       "      <th>0</th>\n",
       "      <td>Maruti Swift Dzire VDI</td>\n",
       "      <td>2014</td>\n",
       "      <td>450000</td>\n",
       "      <td>145500</td>\n",
       "      <td>Diesel</td>\n",
       "      <td>Individual</td>\n",
       "      <td>Manual</td>\n",
       "      <td>First Owner</td>\n",
       "      <td>23.4 kmpl</td>\n",
       "      <td>1248 CC</td>\n",
       "      <td>74 bhp</td>\n",
       "      <td>190Nm@ 2000rpm</td>\n",
       "      <td>5.0</td>\n",
       "    </tr>\n",
       "    <tr>\n",
       "      <th>1</th>\n",
       "      <td>Skoda Rapid 1.5 TDI Ambition</td>\n",
       "      <td>2014</td>\n",
       "      <td>370000</td>\n",
       "      <td>120000</td>\n",
       "      <td>Diesel</td>\n",
       "      <td>Individual</td>\n",
       "      <td>Manual</td>\n",
       "      <td>Second Owner</td>\n",
       "      <td>21.14 kmpl</td>\n",
       "      <td>1498 CC</td>\n",
       "      <td>103.52 bhp</td>\n",
       "      <td>250Nm@ 1500-2500rpm</td>\n",
       "      <td>5.0</td>\n",
       "    </tr>\n",
       "    <tr>\n",
       "      <th>2</th>\n",
       "      <td>Honda City 2017-2020 EXi</td>\n",
       "      <td>2006</td>\n",
       "      <td>158000</td>\n",
       "      <td>140000</td>\n",
       "      <td>Petrol</td>\n",
       "      <td>Individual</td>\n",
       "      <td>Manual</td>\n",
       "      <td>Third Owner</td>\n",
       "      <td>17.7 kmpl</td>\n",
       "      <td>1497 CC</td>\n",
       "      <td>78 bhp</td>\n",
       "      <td>12.7@ 2,700(kgm@ rpm)</td>\n",
       "      <td>5.0</td>\n",
       "    </tr>\n",
       "    <tr>\n",
       "      <th>3</th>\n",
       "      <td>Hyundai i20 Sportz Diesel</td>\n",
       "      <td>2010</td>\n",
       "      <td>225000</td>\n",
       "      <td>127000</td>\n",
       "      <td>Diesel</td>\n",
       "      <td>Individual</td>\n",
       "      <td>Manual</td>\n",
       "      <td>First Owner</td>\n",
       "      <td>23.0 kmpl</td>\n",
       "      <td>1396 CC</td>\n",
       "      <td>90 bhp</td>\n",
       "      <td>22.4 kgm at 1750-2750rpm</td>\n",
       "      <td>5.0</td>\n",
       "    </tr>\n",
       "    <tr>\n",
       "      <th>4</th>\n",
       "      <td>Maruti Swift VXI BSIII</td>\n",
       "      <td>2007</td>\n",
       "      <td>130000</td>\n",
       "      <td>120000</td>\n",
       "      <td>Petrol</td>\n",
       "      <td>Individual</td>\n",
       "      <td>Manual</td>\n",
       "      <td>First Owner</td>\n",
       "      <td>16.1 kmpl</td>\n",
       "      <td>1298 CC</td>\n",
       "      <td>88.2 bhp</td>\n",
       "      <td>11.5@ 4,500(kgm@ rpm)</td>\n",
       "      <td>5.0</td>\n",
       "    </tr>\n",
       "  </tbody>\n",
       "</table>\n",
       "</div>"
      ],
      "text/plain": [
       "                           name  year  selling_price  km_driven    fuel  \\\n",
       "0        Maruti Swift Dzire VDI  2014         450000     145500  Diesel   \n",
       "1  Skoda Rapid 1.5 TDI Ambition  2014         370000     120000  Diesel   \n",
       "2      Honda City 2017-2020 EXi  2006         158000     140000  Petrol   \n",
       "3     Hyundai i20 Sportz Diesel  2010         225000     127000  Diesel   \n",
       "4        Maruti Swift VXI BSIII  2007         130000     120000  Petrol   \n",
       "\n",
       "  seller_type transmission         owner     mileage   engine   max_power  \\\n",
       "0  Individual       Manual   First Owner   23.4 kmpl  1248 CC      74 bhp   \n",
       "1  Individual       Manual  Second Owner  21.14 kmpl  1498 CC  103.52 bhp   \n",
       "2  Individual       Manual   Third Owner   17.7 kmpl  1497 CC      78 bhp   \n",
       "3  Individual       Manual   First Owner   23.0 kmpl  1396 CC      90 bhp   \n",
       "4  Individual       Manual   First Owner   16.1 kmpl  1298 CC    88.2 bhp   \n",
       "\n",
       "                     torque  seats  \n",
       "0            190Nm@ 2000rpm    5.0  \n",
       "1       250Nm@ 1500-2500rpm    5.0  \n",
       "2     12.7@ 2,700(kgm@ rpm)    5.0  \n",
       "3  22.4 kgm at 1750-2750rpm    5.0  \n",
       "4     11.5@ 4,500(kgm@ rpm)    5.0  "
      ]
     },
     "execution_count": 17,
     "metadata": {},
     "output_type": "execute_result"
    }
   ],
   "source": [
    "df.head()"
   ]
  },
  {
   "cell_type": "code",
   "execution_count": 18,
   "id": "a7775fcb",
   "metadata": {
    "execution": {
     "iopub.execute_input": "2021-09-28T08:19:17.906632Z",
     "iopub.status.busy": "2021-09-28T08:19:17.905954Z",
     "iopub.status.idle": "2021-09-28T08:19:17.909157Z",
     "shell.execute_reply": "2021-09-28T08:19:17.909656Z",
     "shell.execute_reply.started": "2021-09-27T19:40:28.955815Z"
    },
    "papermill": {
     "duration": 0.070611,
     "end_time": "2021-09-28T08:19:17.909824",
     "exception": false,
     "start_time": "2021-09-28T08:19:17.839213",
     "status": "completed"
    },
    "tags": []
   },
   "outputs": [],
   "source": [
    "### THIRD STEP:: Preprocessing some columns"
   ]
  },
  {
   "cell_type": "code",
   "execution_count": 19,
   "id": "b54482db",
   "metadata": {
    "execution": {
     "iopub.execute_input": "2021-09-28T08:19:18.042125Z",
     "iopub.status.busy": "2021-09-28T08:19:18.041441Z",
     "iopub.status.idle": "2021-09-28T08:19:18.052321Z",
     "shell.execute_reply": "2021-09-28T08:19:18.052795Z",
     "shell.execute_reply.started": "2021-09-27T19:40:28.967338Z"
    },
    "papermill": {
     "duration": 0.078834,
     "end_time": "2021-09-28T08:19:18.052983",
     "exception": false,
     "start_time": "2021-09-28T08:19:17.974149",
     "status": "completed"
    },
    "tags": []
   },
   "outputs": [
    {
     "data": {
      "text/plain": [
       "0        23.4\n",
       "1       21.14\n",
       "2        17.7\n",
       "3        23.0\n",
       "4        16.1\n",
       "        ...  \n",
       "8121     18.9\n",
       "8122    22.54\n",
       "8123     18.5\n",
       "8124     16.8\n",
       "8125     19.3\n",
       "Name: mileage, Length: 6717, dtype: object"
      ]
     },
     "execution_count": 19,
     "metadata": {},
     "output_type": "execute_result"
    }
   ],
   "source": [
    "df['mileage'].apply(lambda x:x.split()[0])"
   ]
  },
  {
   "cell_type": "code",
   "execution_count": 20,
   "id": "585cff8e",
   "metadata": {
    "execution": {
     "iopub.execute_input": "2021-09-28T08:19:18.189101Z",
     "iopub.status.busy": "2021-09-28T08:19:18.188308Z",
     "iopub.status.idle": "2021-09-28T08:19:18.196395Z",
     "shell.execute_reply": "2021-09-28T08:19:18.196927Z",
     "shell.execute_reply.started": "2021-09-27T19:40:28.983924Z"
    },
    "papermill": {
     "duration": 0.077903,
     "end_time": "2021-09-28T08:19:18.197120",
     "exception": false,
     "start_time": "2021-09-28T08:19:18.119217",
     "status": "completed"
    },
    "tags": []
   },
   "outputs": [],
   "source": [
    "df['mileage']= df['mileage'].apply(lambda x:x.split()[0])"
   ]
  },
  {
   "cell_type": "code",
   "execution_count": 21,
   "id": "019aa850",
   "metadata": {
    "execution": {
     "iopub.execute_input": "2021-09-28T08:19:18.330776Z",
     "iopub.status.busy": "2021-09-28T08:19:18.330094Z",
     "iopub.status.idle": "2021-09-28T08:19:18.338840Z",
     "shell.execute_reply": "2021-09-28T08:19:18.338266Z",
     "shell.execute_reply.started": "2021-09-27T19:40:29.001815Z"
    },
    "papermill": {
     "duration": 0.077107,
     "end_time": "2021-09-28T08:19:18.338980",
     "exception": false,
     "start_time": "2021-09-28T08:19:18.261873",
     "status": "completed"
    },
    "tags": []
   },
   "outputs": [
    {
     "data": {
      "text/plain": [
       "0       23.400000\n",
       "1       21.139999\n",
       "2       17.700001\n",
       "3       23.000000\n",
       "4       16.100000\n",
       "          ...    \n",
       "8121    18.900000\n",
       "8122    22.540001\n",
       "8123    18.500000\n",
       "8124    16.799999\n",
       "8125    19.299999\n",
       "Name: mileage, Length: 6717, dtype: float32"
      ]
     },
     "execution_count": 21,
     "metadata": {},
     "output_type": "execute_result"
    }
   ],
   "source": [
    "df['mileage'].astype('float32')\n",
    "\n",
    "## to make analysis easier"
   ]
  },
  {
   "cell_type": "code",
   "execution_count": 22,
   "id": "c67fa727",
   "metadata": {
    "execution": {
     "iopub.execute_input": "2021-09-28T08:19:18.476600Z",
     "iopub.status.busy": "2021-09-28T08:19:18.475938Z",
     "iopub.status.idle": "2021-09-28T08:19:18.481918Z",
     "shell.execute_reply": "2021-09-28T08:19:18.482473Z",
     "shell.execute_reply.started": "2021-09-27T19:40:29.018941Z"
    },
    "papermill": {
     "duration": 0.077057,
     "end_time": "2021-09-28T08:19:18.482648",
     "exception": false,
     "start_time": "2021-09-28T08:19:18.405591",
     "status": "completed"
    },
    "tags": []
   },
   "outputs": [],
   "source": [
    "df['mileage']= df['mileage'].astype('float32')"
   ]
  },
  {
   "cell_type": "code",
   "execution_count": 23,
   "id": "ea93bb94",
   "metadata": {
    "execution": {
     "iopub.execute_input": "2021-09-28T08:19:18.616914Z",
     "iopub.status.busy": "2021-09-28T08:19:18.616267Z",
     "iopub.status.idle": "2021-09-28T08:19:18.627290Z",
     "shell.execute_reply": "2021-09-28T08:19:18.627814Z",
     "shell.execute_reply.started": "2021-09-27T19:40:29.03529Z"
    },
    "papermill": {
     "duration": 0.079755,
     "end_time": "2021-09-28T08:19:18.627986",
     "exception": false,
     "start_time": "2021-09-28T08:19:18.548231",
     "status": "completed"
    },
    "tags": []
   },
   "outputs": [],
   "source": [
    "df['engine']= df['engine'].apply(lambda x:x.split()[0])\n",
    "df['engine']= df['engine'].astype('int32')"
   ]
  },
  {
   "cell_type": "code",
   "execution_count": 24,
   "id": "101b699a",
   "metadata": {
    "execution": {
     "iopub.execute_input": "2021-09-28T08:19:18.761903Z",
     "iopub.status.busy": "2021-09-28T08:19:18.760934Z",
     "iopub.status.idle": "2021-09-28T08:19:18.772353Z",
     "shell.execute_reply": "2021-09-28T08:19:18.772858Z",
     "shell.execute_reply.started": "2021-09-27T19:40:29.052328Z"
    },
    "papermill": {
     "duration": 0.07995,
     "end_time": "2021-09-28T08:19:18.773051",
     "exception": false,
     "start_time": "2021-09-28T08:19:18.693101",
     "status": "completed"
    },
    "tags": []
   },
   "outputs": [],
   "source": [
    "df['max_power']= df['max_power'].apply(lambda x:x.split()[0])\n",
    "df['max_power']= df['max_power'].astype('float32')"
   ]
  },
  {
   "cell_type": "code",
   "execution_count": 25,
   "id": "7da3309b",
   "metadata": {
    "execution": {
     "iopub.execute_input": "2021-09-28T08:19:18.907049Z",
     "iopub.status.busy": "2021-09-28T08:19:18.906088Z",
     "iopub.status.idle": "2021-09-28T08:19:18.926911Z",
     "shell.execute_reply": "2021-09-28T08:19:18.927401Z",
     "shell.execute_reply.started": "2021-09-27T19:40:29.076957Z"
    },
    "papermill": {
     "duration": 0.089594,
     "end_time": "2021-09-28T08:19:18.927579",
     "exception": false,
     "start_time": "2021-09-28T08:19:18.837985",
     "status": "completed"
    },
    "tags": []
   },
   "outputs": [
    {
     "data": {
      "text/html": [
       "<div>\n",
       "<style scoped>\n",
       "    .dataframe tbody tr th:only-of-type {\n",
       "        vertical-align: middle;\n",
       "    }\n",
       "\n",
       "    .dataframe tbody tr th {\n",
       "        vertical-align: top;\n",
       "    }\n",
       "\n",
       "    .dataframe thead th {\n",
       "        text-align: right;\n",
       "    }\n",
       "</style>\n",
       "<table border=\"1\" class=\"dataframe\">\n",
       "  <thead>\n",
       "    <tr style=\"text-align: right;\">\n",
       "      <th></th>\n",
       "      <th>name</th>\n",
       "      <th>year</th>\n",
       "      <th>selling_price</th>\n",
       "      <th>km_driven</th>\n",
       "      <th>fuel</th>\n",
       "      <th>seller_type</th>\n",
       "      <th>transmission</th>\n",
       "      <th>owner</th>\n",
       "      <th>mileage</th>\n",
       "      <th>engine</th>\n",
       "      <th>max_power</th>\n",
       "      <th>torque</th>\n",
       "      <th>seats</th>\n",
       "    </tr>\n",
       "  </thead>\n",
       "  <tbody>\n",
       "    <tr>\n",
       "      <th>374</th>\n",
       "      <td>Volvo XC40 D4 Inscription BSIV</td>\n",
       "      <td>2019</td>\n",
       "      <td>3800000</td>\n",
       "      <td>20000</td>\n",
       "      <td>Diesel</td>\n",
       "      <td>Individual</td>\n",
       "      <td>Automatic</td>\n",
       "      <td>First Owner</td>\n",
       "      <td>18.000000</td>\n",
       "      <td>1969</td>\n",
       "      <td>190.000000</td>\n",
       "      <td>400Nm</td>\n",
       "      <td>5.0</td>\n",
       "    </tr>\n",
       "    <tr>\n",
       "      <th>7458</th>\n",
       "      <td>Datsun RediGO 1.0 S</td>\n",
       "      <td>2017</td>\n",
       "      <td>240000</td>\n",
       "      <td>35000</td>\n",
       "      <td>Petrol</td>\n",
       "      <td>Individual</td>\n",
       "      <td>Manual</td>\n",
       "      <td>First Owner</td>\n",
       "      <td>22.500000</td>\n",
       "      <td>999</td>\n",
       "      <td>67.000000</td>\n",
       "      <td>91Nm@ 4250rpm</td>\n",
       "      <td>5.0</td>\n",
       "    </tr>\n",
       "    <tr>\n",
       "      <th>7241</th>\n",
       "      <td>Volkswagen Polo Diesel Comfortline 1.2L</td>\n",
       "      <td>2011</td>\n",
       "      <td>320000</td>\n",
       "      <td>77000</td>\n",
       "      <td>Diesel</td>\n",
       "      <td>Individual</td>\n",
       "      <td>Manual</td>\n",
       "      <td>Second Owner</td>\n",
       "      <td>22.070000</td>\n",
       "      <td>1199</td>\n",
       "      <td>73.900002</td>\n",
       "      <td>180Nm@ 2000rpm</td>\n",
       "      <td>5.0</td>\n",
       "    </tr>\n",
       "    <tr>\n",
       "      <th>2741</th>\n",
       "      <td>Tata Zest Quadrajet 1.3 XMS</td>\n",
       "      <td>2014</td>\n",
       "      <td>280000</td>\n",
       "      <td>60000</td>\n",
       "      <td>Diesel</td>\n",
       "      <td>Individual</td>\n",
       "      <td>Manual</td>\n",
       "      <td>Second Owner</td>\n",
       "      <td>23.000000</td>\n",
       "      <td>1248</td>\n",
       "      <td>88.699997</td>\n",
       "      <td>200Nm@ 1750-3000rpm</td>\n",
       "      <td>5.0</td>\n",
       "    </tr>\n",
       "    <tr>\n",
       "      <th>3909</th>\n",
       "      <td>Maruti Swift Dzire Vdi BSIV</td>\n",
       "      <td>2011</td>\n",
       "      <td>347000</td>\n",
       "      <td>80600</td>\n",
       "      <td>Diesel</td>\n",
       "      <td>Individual</td>\n",
       "      <td>Manual</td>\n",
       "      <td>First Owner</td>\n",
       "      <td>19.299999</td>\n",
       "      <td>1248</td>\n",
       "      <td>73.900002</td>\n",
       "      <td>190Nm@ 2000rpm</td>\n",
       "      <td>5.0</td>\n",
       "    </tr>\n",
       "  </tbody>\n",
       "</table>\n",
       "</div>"
      ],
      "text/plain": [
       "                                         name  year  selling_price  km_driven  \\\n",
       "374            Volvo XC40 D4 Inscription BSIV  2019        3800000      20000   \n",
       "7458                      Datsun RediGO 1.0 S  2017         240000      35000   \n",
       "7241  Volkswagen Polo Diesel Comfortline 1.2L  2011         320000      77000   \n",
       "2741              Tata Zest Quadrajet 1.3 XMS  2014         280000      60000   \n",
       "3909              Maruti Swift Dzire Vdi BSIV  2011         347000      80600   \n",
       "\n",
       "        fuel seller_type transmission         owner    mileage  engine  \\\n",
       "374   Diesel  Individual    Automatic   First Owner  18.000000    1969   \n",
       "7458  Petrol  Individual       Manual   First Owner  22.500000     999   \n",
       "7241  Diesel  Individual       Manual  Second Owner  22.070000    1199   \n",
       "2741  Diesel  Individual       Manual  Second Owner  23.000000    1248   \n",
       "3909  Diesel  Individual       Manual   First Owner  19.299999    1248   \n",
       "\n",
       "       max_power               torque  seats  \n",
       "374   190.000000                400Nm    5.0  \n",
       "7458   67.000000        91Nm@ 4250rpm    5.0  \n",
       "7241   73.900002       180Nm@ 2000rpm    5.0  \n",
       "2741   88.699997  200Nm@ 1750-3000rpm    5.0  \n",
       "3909   73.900002       190Nm@ 2000rpm    5.0  "
      ]
     },
     "execution_count": 25,
     "metadata": {},
     "output_type": "execute_result"
    }
   ],
   "source": [
    "df.sample(5)"
   ]
  },
  {
   "cell_type": "code",
   "execution_count": 26,
   "id": "cbfa9590",
   "metadata": {
    "execution": {
     "iopub.execute_input": "2021-09-28T08:19:19.065705Z",
     "iopub.status.busy": "2021-09-28T08:19:19.064993Z",
     "iopub.status.idle": "2021-09-28T08:19:19.067289Z",
     "shell.execute_reply": "2021-09-28T08:19:19.066640Z",
     "shell.execute_reply.started": "2021-09-27T19:40:29.107189Z"
    },
    "papermill": {
     "duration": 0.073609,
     "end_time": "2021-09-28T08:19:19.067446",
     "exception": false,
     "start_time": "2021-09-28T08:19:18.993837",
     "status": "completed"
    },
    "tags": []
   },
   "outputs": [],
   "source": [
    "df['seats']= df['seats'].astype('int32')"
   ]
  },
  {
   "cell_type": "code",
   "execution_count": 27,
   "id": "ad9dc8c8",
   "metadata": {
    "execution": {
     "iopub.execute_input": "2021-09-28T08:19:19.208804Z",
     "iopub.status.busy": "2021-09-28T08:19:19.208105Z",
     "iopub.status.idle": "2021-09-28T08:19:19.213415Z",
     "shell.execute_reply": "2021-09-28T08:19:19.213903Z",
     "shell.execute_reply.started": "2021-09-27T19:40:29.119314Z"
    },
    "papermill": {
     "duration": 0.077389,
     "end_time": "2021-09-28T08:19:19.214107",
     "exception": false,
     "start_time": "2021-09-28T08:19:19.136718",
     "status": "completed"
    },
    "tags": []
   },
   "outputs": [],
   "source": [
    "df.drop(columns=['torque'],inplace=True)"
   ]
  },
  {
   "cell_type": "code",
   "execution_count": 28,
   "id": "b0a13a08",
   "metadata": {
    "execution": {
     "iopub.execute_input": "2021-09-28T08:19:19.349403Z",
     "iopub.status.busy": "2021-09-28T08:19:19.348685Z",
     "iopub.status.idle": "2021-09-28T08:19:19.363226Z",
     "shell.execute_reply": "2021-09-28T08:19:19.362659Z",
     "shell.execute_reply.started": "2021-09-27T19:40:29.132791Z"
    },
    "papermill": {
     "duration": 0.083513,
     "end_time": "2021-09-28T08:19:19.363370",
     "exception": false,
     "start_time": "2021-09-28T08:19:19.279857",
     "status": "completed"
    },
    "tags": []
   },
   "outputs": [
    {
     "data": {
      "text/html": [
       "<div>\n",
       "<style scoped>\n",
       "    .dataframe tbody tr th:only-of-type {\n",
       "        vertical-align: middle;\n",
       "    }\n",
       "\n",
       "    .dataframe tbody tr th {\n",
       "        vertical-align: top;\n",
       "    }\n",
       "\n",
       "    .dataframe thead th {\n",
       "        text-align: right;\n",
       "    }\n",
       "</style>\n",
       "<table border=\"1\" class=\"dataframe\">\n",
       "  <thead>\n",
       "    <tr style=\"text-align: right;\">\n",
       "      <th></th>\n",
       "      <th>name</th>\n",
       "      <th>year</th>\n",
       "      <th>selling_price</th>\n",
       "      <th>km_driven</th>\n",
       "      <th>fuel</th>\n",
       "      <th>seller_type</th>\n",
       "      <th>transmission</th>\n",
       "      <th>owner</th>\n",
       "      <th>mileage</th>\n",
       "      <th>engine</th>\n",
       "      <th>max_power</th>\n",
       "      <th>seats</th>\n",
       "    </tr>\n",
       "  </thead>\n",
       "  <tbody>\n",
       "    <tr>\n",
       "      <th>0</th>\n",
       "      <td>Maruti Swift Dzire VDI</td>\n",
       "      <td>2014</td>\n",
       "      <td>450000</td>\n",
       "      <td>145500</td>\n",
       "      <td>Diesel</td>\n",
       "      <td>Individual</td>\n",
       "      <td>Manual</td>\n",
       "      <td>First Owner</td>\n",
       "      <td>23.400000</td>\n",
       "      <td>1248</td>\n",
       "      <td>74.000000</td>\n",
       "      <td>5</td>\n",
       "    </tr>\n",
       "    <tr>\n",
       "      <th>1</th>\n",
       "      <td>Skoda Rapid 1.5 TDI Ambition</td>\n",
       "      <td>2014</td>\n",
       "      <td>370000</td>\n",
       "      <td>120000</td>\n",
       "      <td>Diesel</td>\n",
       "      <td>Individual</td>\n",
       "      <td>Manual</td>\n",
       "      <td>Second Owner</td>\n",
       "      <td>21.139999</td>\n",
       "      <td>1498</td>\n",
       "      <td>103.519997</td>\n",
       "      <td>5</td>\n",
       "    </tr>\n",
       "    <tr>\n",
       "      <th>2</th>\n",
       "      <td>Honda City 2017-2020 EXi</td>\n",
       "      <td>2006</td>\n",
       "      <td>158000</td>\n",
       "      <td>140000</td>\n",
       "      <td>Petrol</td>\n",
       "      <td>Individual</td>\n",
       "      <td>Manual</td>\n",
       "      <td>Third Owner</td>\n",
       "      <td>17.700001</td>\n",
       "      <td>1497</td>\n",
       "      <td>78.000000</td>\n",
       "      <td>5</td>\n",
       "    </tr>\n",
       "    <tr>\n",
       "      <th>3</th>\n",
       "      <td>Hyundai i20 Sportz Diesel</td>\n",
       "      <td>2010</td>\n",
       "      <td>225000</td>\n",
       "      <td>127000</td>\n",
       "      <td>Diesel</td>\n",
       "      <td>Individual</td>\n",
       "      <td>Manual</td>\n",
       "      <td>First Owner</td>\n",
       "      <td>23.000000</td>\n",
       "      <td>1396</td>\n",
       "      <td>90.000000</td>\n",
       "      <td>5</td>\n",
       "    </tr>\n",
       "    <tr>\n",
       "      <th>4</th>\n",
       "      <td>Maruti Swift VXI BSIII</td>\n",
       "      <td>2007</td>\n",
       "      <td>130000</td>\n",
       "      <td>120000</td>\n",
       "      <td>Petrol</td>\n",
       "      <td>Individual</td>\n",
       "      <td>Manual</td>\n",
       "      <td>First Owner</td>\n",
       "      <td>16.100000</td>\n",
       "      <td>1298</td>\n",
       "      <td>88.199997</td>\n",
       "      <td>5</td>\n",
       "    </tr>\n",
       "  </tbody>\n",
       "</table>\n",
       "</div>"
      ],
      "text/plain": [
       "                           name  year  selling_price  km_driven    fuel  \\\n",
       "0        Maruti Swift Dzire VDI  2014         450000     145500  Diesel   \n",
       "1  Skoda Rapid 1.5 TDI Ambition  2014         370000     120000  Diesel   \n",
       "2      Honda City 2017-2020 EXi  2006         158000     140000  Petrol   \n",
       "3     Hyundai i20 Sportz Diesel  2010         225000     127000  Diesel   \n",
       "4        Maruti Swift VXI BSIII  2007         130000     120000  Petrol   \n",
       "\n",
       "  seller_type transmission         owner    mileage  engine   max_power  seats  \n",
       "0  Individual       Manual   First Owner  23.400000    1248   74.000000      5  \n",
       "1  Individual       Manual  Second Owner  21.139999    1498  103.519997      5  \n",
       "2  Individual       Manual   Third Owner  17.700001    1497   78.000000      5  \n",
       "3  Individual       Manual   First Owner  23.000000    1396   90.000000      5  \n",
       "4  Individual       Manual   First Owner  16.100000    1298   88.199997      5  "
      ]
     },
     "execution_count": 28,
     "metadata": {},
     "output_type": "execute_result"
    }
   ],
   "source": [
    "df.head()"
   ]
  },
  {
   "cell_type": "code",
   "execution_count": 29,
   "id": "8da77e70",
   "metadata": {
    "execution": {
     "iopub.execute_input": "2021-09-28T08:19:19.507661Z",
     "iopub.status.busy": "2021-09-28T08:19:19.506637Z",
     "iopub.status.idle": "2021-09-28T08:19:19.509520Z",
     "shell.execute_reply": "2021-09-28T08:19:19.509024Z",
     "shell.execute_reply.started": "2021-09-27T19:40:29.160006Z"
    },
    "papermill": {
     "duration": 0.077824,
     "end_time": "2021-09-28T08:19:19.509667",
     "exception": false,
     "start_time": "2021-09-28T08:19:19.431843",
     "status": "completed"
    },
    "tags": []
   },
   "outputs": [],
   "source": [
    "### THIRD STEP:: Exploratory Data Analysis"
   ]
  },
  {
   "cell_type": "code",
   "execution_count": 30,
   "id": "18819a10",
   "metadata": {
    "execution": {
     "iopub.execute_input": "2021-09-28T08:19:19.646648Z",
     "iopub.status.busy": "2021-09-28T08:19:19.645658Z",
     "iopub.status.idle": "2021-09-28T08:19:20.623888Z",
     "shell.execute_reply": "2021-09-28T08:19:20.623247Z",
     "shell.execute_reply.started": "2021-09-27T19:40:29.16663Z"
    },
    "papermill": {
     "duration": 1.048235,
     "end_time": "2021-09-28T08:19:20.624068",
     "exception": false,
     "start_time": "2021-09-28T08:19:19.575833",
     "status": "completed"
    },
    "tags": []
   },
   "outputs": [],
   "source": [
    "import seaborn as sns\n",
    "import matplotlib.pyplot as plt"
   ]
  },
  {
   "cell_type": "code",
   "execution_count": 31,
   "id": "776a20fa",
   "metadata": {
    "execution": {
     "iopub.execute_input": "2021-09-28T08:19:20.764088Z",
     "iopub.status.busy": "2021-09-28T08:19:20.763102Z",
     "iopub.status.idle": "2021-09-28T08:19:21.162705Z",
     "shell.execute_reply": "2021-09-28T08:19:21.163239Z",
     "shell.execute_reply.started": "2021-09-27T19:40:30.16279Z"
    },
    "papermill": {
     "duration": 0.470859,
     "end_time": "2021-09-28T08:19:21.163414",
     "exception": false,
     "start_time": "2021-09-28T08:19:20.692555",
     "status": "completed"
    },
    "tags": []
   },
   "outputs": [
    {
     "name": "stderr",
     "output_type": "stream",
     "text": [
      "/opt/conda/lib/python3.7/site-packages/seaborn/_decorators.py:43: FutureWarning: Pass the following variable as a keyword arg: x. From version 0.12, the only valid positional argument will be `data`, and passing other arguments without an explicit keyword will result in an error or misinterpretation.\n",
      "  FutureWarning\n"
     ]
    },
    {
     "data": {
      "image/png": "[encoded data removed]",
      "text/plain": [
       "<Figure size 432x288 with 1 Axes>"
      ]
     },
     "metadata": {
      "needs_background": "light"
     },
     "output_type": "display_data"
    }
   ],
   "source": [
    "sns.countplot(df['year'])\n",
    "plt.xticks(rotation='vertical')\n",
    "plt.show()"
   ]
  },
  {
   "cell_type": "code",
   "execution_count": 32,
   "id": "19f90ecb",
   "metadata": {
    "execution": {
     "iopub.execute_input": "2021-09-28T08:19:21.303537Z",
     "iopub.status.busy": "2021-09-28T08:19:21.302548Z",
     "iopub.status.idle": "2021-09-28T08:19:21.318487Z",
     "shell.execute_reply": "2021-09-28T08:19:21.318970Z",
     "shell.execute_reply.started": "2021-09-27T19:40:30.586985Z"
    },
    "papermill": {
     "duration": 0.087555,
     "end_time": "2021-09-28T08:19:21.319162",
     "exception": false,
     "start_time": "2021-09-28T08:19:21.231607",
     "status": "completed"
    },
    "tags": []
   },
   "outputs": [
    {
     "data": {
      "text/html": [
       "<div>\n",
       "<style scoped>\n",
       "    .dataframe tbody tr th:only-of-type {\n",
       "        vertical-align: middle;\n",
       "    }\n",
       "\n",
       "    .dataframe tbody tr th {\n",
       "        vertical-align: top;\n",
       "    }\n",
       "\n",
       "    .dataframe thead th {\n",
       "        text-align: right;\n",
       "    }\n",
       "</style>\n",
       "<table border=\"1\" class=\"dataframe\">\n",
       "  <thead>\n",
       "    <tr style=\"text-align: right;\">\n",
       "      <th></th>\n",
       "      <th>year</th>\n",
       "      <th>selling_price</th>\n",
       "      <th>km_driven</th>\n",
       "      <th>mileage</th>\n",
       "      <th>engine</th>\n",
       "      <th>max_power</th>\n",
       "      <th>seats</th>\n",
       "    </tr>\n",
       "  </thead>\n",
       "  <tbody>\n",
       "    <tr>\n",
       "      <th>year</th>\n",
       "      <td>1.000000</td>\n",
       "      <td>0.427335</td>\n",
       "      <td>-0.387918</td>\n",
       "      <td>0.366048</td>\n",
       "      <td>-0.019763</td>\n",
       "      <td>0.159889</td>\n",
       "      <td>0.025021</td>\n",
       "    </tr>\n",
       "    <tr>\n",
       "      <th>selling_price</th>\n",
       "      <td>0.427335</td>\n",
       "      <td>1.000000</td>\n",
       "      <td>-0.161265</td>\n",
       "      <td>-0.108655</td>\n",
       "      <td>0.442772</td>\n",
       "      <td>0.692323</td>\n",
       "      <td>0.158531</td>\n",
       "    </tr>\n",
       "    <tr>\n",
       "      <th>km_driven</th>\n",
       "      <td>-0.387918</td>\n",
       "      <td>-0.161265</td>\n",
       "      <td>1.000000</td>\n",
       "      <td>-0.196419</td>\n",
       "      <td>0.253460</td>\n",
       "      <td>0.041770</td>\n",
       "      <td>0.207890</td>\n",
       "    </tr>\n",
       "    <tr>\n",
       "      <th>mileage</th>\n",
       "      <td>0.366048</td>\n",
       "      <td>-0.108655</td>\n",
       "      <td>-0.196419</td>\n",
       "      <td>1.000000</td>\n",
       "      <td>-0.579153</td>\n",
       "      <td>-0.378609</td>\n",
       "      <td>-0.459188</td>\n",
       "    </tr>\n",
       "    <tr>\n",
       "      <th>engine</th>\n",
       "      <td>-0.019763</td>\n",
       "      <td>0.442772</td>\n",
       "      <td>0.253460</td>\n",
       "      <td>-0.579153</td>\n",
       "      <td>1.000000</td>\n",
       "      <td>0.683506</td>\n",
       "      <td>0.658711</td>\n",
       "    </tr>\n",
       "    <tr>\n",
       "      <th>max_power</th>\n",
       "      <td>0.159889</td>\n",
       "      <td>0.692323</td>\n",
       "      <td>0.041770</td>\n",
       "      <td>-0.378609</td>\n",
       "      <td>0.683506</td>\n",
       "      <td>1.000000</td>\n",
       "      <td>0.259028</td>\n",
       "    </tr>\n",
       "    <tr>\n",
       "      <th>seats</th>\n",
       "      <td>0.025021</td>\n",
       "      <td>0.158531</td>\n",
       "      <td>0.207890</td>\n",
       "      <td>-0.459188</td>\n",
       "      <td>0.658711</td>\n",
       "      <td>0.259028</td>\n",
       "      <td>1.000000</td>\n",
       "    </tr>\n",
       "  </tbody>\n",
       "</table>\n",
       "</div>"
      ],
      "text/plain": [
       "                   year  selling_price  km_driven   mileage    engine  \\\n",
       "year           1.000000       0.427335  -0.387918  0.366048 -0.019763   \n",
       "selling_price  0.427335       1.000000  -0.161265 -0.108655  0.442772   \n",
       "km_driven     -0.387918      -0.161265   1.000000 -0.196419  0.253460   \n",
       "mileage        0.366048      -0.108655  -0.196419  1.000000 -0.579153   \n",
       "engine        -0.019763       0.442772   0.253460 -0.579153  1.000000   \n",
       "max_power      0.159889       0.692323   0.041770 -0.378609  0.683506   \n",
       "seats          0.025021       0.158531   0.207890 -0.459188  0.658711   \n",
       "\n",
       "               max_power     seats  \n",
       "year            0.159889  0.025021  \n",
       "selling_price   0.692323  0.158531  \n",
       "km_driven       0.041770  0.207890  \n",
       "mileage        -0.378609 -0.459188  \n",
       "engine          0.683506  0.658711  \n",
       "max_power       1.000000  0.259028  \n",
       "seats           0.259028  1.000000  "
      ]
     },
     "execution_count": 32,
     "metadata": {},
     "output_type": "execute_result"
    }
   ],
   "source": [
    "df.corr()"
   ]
  },
  {
   "cell_type": "code",
   "execution_count": 33,
   "id": "a964fc8b",
   "metadata": {
    "execution": {
     "iopub.execute_input": "2021-09-28T08:19:21.461945Z",
     "iopub.status.busy": "2021-09-28T08:19:21.460960Z",
     "iopub.status.idle": "2021-09-28T08:19:21.464313Z",
     "shell.execute_reply": "2021-09-28T08:19:21.464794Z",
     "shell.execute_reply.started": "2021-09-27T19:40:30.607338Z"
    },
    "papermill": {
     "duration": 0.075797,
     "end_time": "2021-09-28T08:19:21.464962",
     "exception": false,
     "start_time": "2021-09-28T08:19:21.389165",
     "status": "completed"
    },
    "tags": []
   },
   "outputs": [],
   "source": [
    "## FOURTH STEP:: Feature Engineering"
   ]
  },
  {
   "cell_type": "code",
   "execution_count": 34,
   "id": "500b9dff",
   "metadata": {
    "execution": {
     "iopub.execute_input": "2021-09-28T08:19:21.607840Z",
     "iopub.status.busy": "2021-09-28T08:19:21.606888Z",
     "iopub.status.idle": "2021-09-28T08:19:21.611924Z",
     "shell.execute_reply": "2021-09-28T08:19:21.612421Z",
     "shell.execute_reply.started": "2021-09-27T19:40:30.613097Z"
    },
    "papermill": {
     "duration": 0.077808,
     "end_time": "2021-09-28T08:19:21.612598",
     "exception": false,
     "start_time": "2021-09-28T08:19:21.534790",
     "status": "completed"
    },
    "tags": []
   },
   "outputs": [],
   "source": [
    "df['old']= 2020- df['year']"
   ]
  },
  {
   "cell_type": "code",
   "execution_count": 35,
   "id": "62f8b4a9",
   "metadata": {
    "execution": {
     "iopub.execute_input": "2021-09-28T08:19:21.756116Z",
     "iopub.status.busy": "2021-09-28T08:19:21.755067Z",
     "iopub.status.idle": "2021-09-28T08:19:21.770640Z",
     "shell.execute_reply": "2021-09-28T08:19:21.771108Z",
     "shell.execute_reply.started": "2021-09-27T19:40:30.627199Z"
    },
    "papermill": {
     "duration": 0.090654,
     "end_time": "2021-09-28T08:19:21.771283",
     "exception": false,
     "start_time": "2021-09-28T08:19:21.680629",
     "status": "completed"
    },
    "tags": []
   },
   "outputs": [
    {
     "data": {
      "text/html": [
       "<div>\n",
       "<style scoped>\n",
       "    .dataframe tbody tr th:only-of-type {\n",
       "        vertical-align: middle;\n",
       "    }\n",
       "\n",
       "    .dataframe tbody tr th {\n",
       "        vertical-align: top;\n",
       "    }\n",
       "\n",
       "    .dataframe thead th {\n",
       "        text-align: right;\n",
       "    }\n",
       "</style>\n",
       "<table border=\"1\" class=\"dataframe\">\n",
       "  <thead>\n",
       "    <tr style=\"text-align: right;\">\n",
       "      <th></th>\n",
       "      <th>name</th>\n",
       "      <th>year</th>\n",
       "      <th>selling_price</th>\n",
       "      <th>km_driven</th>\n",
       "      <th>fuel</th>\n",
       "      <th>seller_type</th>\n",
       "      <th>transmission</th>\n",
       "      <th>owner</th>\n",
       "      <th>mileage</th>\n",
       "      <th>engine</th>\n",
       "      <th>max_power</th>\n",
       "      <th>seats</th>\n",
       "      <th>old</th>\n",
       "    </tr>\n",
       "  </thead>\n",
       "  <tbody>\n",
       "    <tr>\n",
       "      <th>0</th>\n",
       "      <td>Maruti Swift Dzire VDI</td>\n",
       "      <td>2014</td>\n",
       "      <td>450000</td>\n",
       "      <td>145500</td>\n",
       "      <td>Diesel</td>\n",
       "      <td>Individual</td>\n",
       "      <td>Manual</td>\n",
       "      <td>First Owner</td>\n",
       "      <td>23.400000</td>\n",
       "      <td>1248</td>\n",
       "      <td>74.000000</td>\n",
       "      <td>5</td>\n",
       "      <td>6</td>\n",
       "    </tr>\n",
       "    <tr>\n",
       "      <th>1</th>\n",
       "      <td>Skoda Rapid 1.5 TDI Ambition</td>\n",
       "      <td>2014</td>\n",
       "      <td>370000</td>\n",
       "      <td>120000</td>\n",
       "      <td>Diesel</td>\n",
       "      <td>Individual</td>\n",
       "      <td>Manual</td>\n",
       "      <td>Second Owner</td>\n",
       "      <td>21.139999</td>\n",
       "      <td>1498</td>\n",
       "      <td>103.519997</td>\n",
       "      <td>5</td>\n",
       "      <td>6</td>\n",
       "    </tr>\n",
       "    <tr>\n",
       "      <th>2</th>\n",
       "      <td>Honda City 2017-2020 EXi</td>\n",
       "      <td>2006</td>\n",
       "      <td>158000</td>\n",
       "      <td>140000</td>\n",
       "      <td>Petrol</td>\n",
       "      <td>Individual</td>\n",
       "      <td>Manual</td>\n",
       "      <td>Third Owner</td>\n",
       "      <td>17.700001</td>\n",
       "      <td>1497</td>\n",
       "      <td>78.000000</td>\n",
       "      <td>5</td>\n",
       "      <td>14</td>\n",
       "    </tr>\n",
       "    <tr>\n",
       "      <th>3</th>\n",
       "      <td>Hyundai i20 Sportz Diesel</td>\n",
       "      <td>2010</td>\n",
       "      <td>225000</td>\n",
       "      <td>127000</td>\n",
       "      <td>Diesel</td>\n",
       "      <td>Individual</td>\n",
       "      <td>Manual</td>\n",
       "      <td>First Owner</td>\n",
       "      <td>23.000000</td>\n",
       "      <td>1396</td>\n",
       "      <td>90.000000</td>\n",
       "      <td>5</td>\n",
       "      <td>10</td>\n",
       "    </tr>\n",
       "    <tr>\n",
       "      <th>4</th>\n",
       "      <td>Maruti Swift VXI BSIII</td>\n",
       "      <td>2007</td>\n",
       "      <td>130000</td>\n",
       "      <td>120000</td>\n",
       "      <td>Petrol</td>\n",
       "      <td>Individual</td>\n",
       "      <td>Manual</td>\n",
       "      <td>First Owner</td>\n",
       "      <td>16.100000</td>\n",
       "      <td>1298</td>\n",
       "      <td>88.199997</td>\n",
       "      <td>5</td>\n",
       "      <td>13</td>\n",
       "    </tr>\n",
       "  </tbody>\n",
       "</table>\n",
       "</div>"
      ],
      "text/plain": [
       "                           name  year  selling_price  km_driven    fuel  \\\n",
       "0        Maruti Swift Dzire VDI  2014         450000     145500  Diesel   \n",
       "1  Skoda Rapid 1.5 TDI Ambition  2014         370000     120000  Diesel   \n",
       "2      Honda City 2017-2020 EXi  2006         158000     140000  Petrol   \n",
       "3     Hyundai i20 Sportz Diesel  2010         225000     127000  Diesel   \n",
       "4        Maruti Swift VXI BSIII  2007         130000     120000  Petrol   \n",
       "\n",
       "  seller_type transmission         owner    mileage  engine   max_power  \\\n",
       "0  Individual       Manual   First Owner  23.400000    1248   74.000000   \n",
       "1  Individual       Manual  Second Owner  21.139999    1498  103.519997   \n",
       "2  Individual       Manual   Third Owner  17.700001    1497   78.000000   \n",
       "3  Individual       Manual   First Owner  23.000000    1396   90.000000   \n",
       "4  Individual       Manual   First Owner  16.100000    1298   88.199997   \n",
       "\n",
       "   seats  old  \n",
       "0      5    6  \n",
       "1      5    6  \n",
       "2      5   14  \n",
       "3      5   10  \n",
       "4      5   13  "
      ]
     },
     "execution_count": 35,
     "metadata": {},
     "output_type": "execute_result"
    }
   ],
   "source": [
    "df.head()"
   ]
  },
  {
   "cell_type": "code",
   "execution_count": 36,
   "id": "e9aed2e0",
   "metadata": {
    "execution": {
     "iopub.execute_input": "2021-09-28T08:19:21.913782Z",
     "iopub.status.busy": "2021-09-28T08:19:21.912767Z",
     "iopub.status.idle": "2021-09-28T08:19:21.919881Z",
     "shell.execute_reply": "2021-09-28T08:19:21.919339Z",
     "shell.execute_reply.started": "2021-09-27T19:40:30.65149Z"
    },
    "papermill": {
     "duration": 0.079314,
     "end_time": "2021-09-28T08:19:21.920019",
     "exception": false,
     "start_time": "2021-09-28T08:19:21.840705",
     "status": "completed"
    },
    "tags": []
   },
   "outputs": [],
   "source": [
    "df.drop(columns=['year'],inplace=True)"
   ]
  },
  {
   "cell_type": "code",
   "execution_count": 37,
   "id": "d813c35e",
   "metadata": {
    "execution": {
     "iopub.execute_input": "2021-09-28T08:19:22.074317Z",
     "iopub.status.busy": "2021-09-28T08:19:22.073360Z",
     "iopub.status.idle": "2021-09-28T08:19:22.077882Z",
     "shell.execute_reply": "2021-09-28T08:19:22.077285Z",
     "shell.execute_reply.started": "2021-09-27T19:40:30.661192Z"
    },
    "papermill": {
     "duration": 0.088701,
     "end_time": "2021-09-28T08:19:22.078047",
     "exception": false,
     "start_time": "2021-09-28T08:19:21.989346",
     "status": "completed"
    },
    "tags": []
   },
   "outputs": [
    {
     "data": {
      "text/html": [
       "<div>\n",
       "<style scoped>\n",
       "    .dataframe tbody tr th:only-of-type {\n",
       "        vertical-align: middle;\n",
       "    }\n",
       "\n",
       "    .dataframe tbody tr th {\n",
       "        vertical-align: top;\n",
       "    }\n",
       "\n",
       "    .dataframe thead th {\n",
       "        text-align: right;\n",
       "    }\n",
       "</style>\n",
       "<table border=\"1\" class=\"dataframe\">\n",
       "  <thead>\n",
       "    <tr style=\"text-align: right;\">\n",
       "      <th></th>\n",
       "      <th>name</th>\n",
       "      <th>selling_price</th>\n",
       "      <th>km_driven</th>\n",
       "      <th>fuel</th>\n",
       "      <th>seller_type</th>\n",
       "      <th>transmission</th>\n",
       "      <th>owner</th>\n",
       "      <th>mileage</th>\n",
       "      <th>engine</th>\n",
       "      <th>max_power</th>\n",
       "      <th>seats</th>\n",
       "      <th>old</th>\n",
       "    </tr>\n",
       "  </thead>\n",
       "  <tbody>\n",
       "    <tr>\n",
       "      <th>0</th>\n",
       "      <td>Maruti Swift Dzire VDI</td>\n",
       "      <td>450000</td>\n",
       "      <td>145500</td>\n",
       "      <td>Diesel</td>\n",
       "      <td>Individual</td>\n",
       "      <td>Manual</td>\n",
       "      <td>First Owner</td>\n",
       "      <td>23.400000</td>\n",
       "      <td>1248</td>\n",
       "      <td>74.000000</td>\n",
       "      <td>5</td>\n",
       "      <td>6</td>\n",
       "    </tr>\n",
       "    <tr>\n",
       "      <th>1</th>\n",
       "      <td>Skoda Rapid 1.5 TDI Ambition</td>\n",
       "      <td>370000</td>\n",
       "      <td>120000</td>\n",
       "      <td>Diesel</td>\n",
       "      <td>Individual</td>\n",
       "      <td>Manual</td>\n",
       "      <td>Second Owner</td>\n",
       "      <td>21.139999</td>\n",
       "      <td>1498</td>\n",
       "      <td>103.519997</td>\n",
       "      <td>5</td>\n",
       "      <td>6</td>\n",
       "    </tr>\n",
       "    <tr>\n",
       "      <th>2</th>\n",
       "      <td>Honda City 2017-2020 EXi</td>\n",
       "      <td>158000</td>\n",
       "      <td>140000</td>\n",
       "      <td>Petrol</td>\n",
       "      <td>Individual</td>\n",
       "      <td>Manual</td>\n",
       "      <td>Third Owner</td>\n",
       "      <td>17.700001</td>\n",
       "      <td>1497</td>\n",
       "      <td>78.000000</td>\n",
       "      <td>5</td>\n",
       "      <td>14</td>\n",
       "    </tr>\n",
       "    <tr>\n",
       "      <th>3</th>\n",
       "      <td>Hyundai i20 Sportz Diesel</td>\n",
       "      <td>225000</td>\n",
       "      <td>127000</td>\n",
       "      <td>Diesel</td>\n",
       "      <td>Individual</td>\n",
       "      <td>Manual</td>\n",
       "      <td>First Owner</td>\n",
       "      <td>23.000000</td>\n",
       "      <td>1396</td>\n",
       "      <td>90.000000</td>\n",
       "      <td>5</td>\n",
       "      <td>10</td>\n",
       "    </tr>\n",
       "    <tr>\n",
       "      <th>4</th>\n",
       "      <td>Maruti Swift VXI BSIII</td>\n",
       "      <td>130000</td>\n",
       "      <td>120000</td>\n",
       "      <td>Petrol</td>\n",
       "      <td>Individual</td>\n",
       "      <td>Manual</td>\n",
       "      <td>First Owner</td>\n",
       "      <td>16.100000</td>\n",
       "      <td>1298</td>\n",
       "      <td>88.199997</td>\n",
       "      <td>5</td>\n",
       "      <td>13</td>\n",
       "    </tr>\n",
       "  </tbody>\n",
       "</table>\n",
       "</div>"
      ],
      "text/plain": [
       "                           name  selling_price  km_driven    fuel seller_type  \\\n",
       "0        Maruti Swift Dzire VDI         450000     145500  Diesel  Individual   \n",
       "1  Skoda Rapid 1.5 TDI Ambition         370000     120000  Diesel  Individual   \n",
       "2      Honda City 2017-2020 EXi         158000     140000  Petrol  Individual   \n",
       "3     Hyundai i20 Sportz Diesel         225000     127000  Diesel  Individual   \n",
       "4        Maruti Swift VXI BSIII         130000     120000  Petrol  Individual   \n",
       "\n",
       "  transmission         owner    mileage  engine   max_power  seats  old  \n",
       "0       Manual   First Owner  23.400000    1248   74.000000      5    6  \n",
       "1       Manual  Second Owner  21.139999    1498  103.519997      5    6  \n",
       "2       Manual   Third Owner  17.700001    1497   78.000000      5   14  \n",
       "3       Manual   First Owner  23.000000    1396   90.000000      5   10  \n",
       "4       Manual   First Owner  16.100000    1298   88.199997      5   13  "
      ]
     },
     "execution_count": 37,
     "metadata": {},
     "output_type": "execute_result"
    }
   ],
   "source": [
    "df.head()"
   ]
  },
  {
   "cell_type": "code",
   "execution_count": 38,
   "id": "2c0ac386",
   "metadata": {
    "execution": {
     "iopub.execute_input": "2021-09-28T08:19:22.223992Z",
     "iopub.status.busy": "2021-09-28T08:19:22.223126Z",
     "iopub.status.idle": "2021-09-28T08:19:22.227896Z",
     "shell.execute_reply": "2021-09-28T08:19:22.227343Z",
     "shell.execute_reply.started": "2021-09-27T19:40:30.683214Z"
    },
    "papermill": {
     "duration": 0.080412,
     "end_time": "2021-09-28T08:19:22.228062",
     "exception": false,
     "start_time": "2021-09-28T08:19:22.147650",
     "status": "completed"
    },
    "tags": []
   },
   "outputs": [],
   "source": [
    "## BACK TO EDA"
   ]
  },
  {
   "cell_type": "code",
   "execution_count": 39,
   "id": "e8796292",
   "metadata": {
    "execution": {
     "iopub.execute_input": "2021-09-28T08:19:22.372676Z",
     "iopub.status.busy": "2021-09-28T08:19:22.371829Z",
     "iopub.status.idle": "2021-09-28T08:19:22.726997Z",
     "shell.execute_reply": "2021-09-28T08:19:22.727691Z",
     "shell.execute_reply.started": "2021-09-27T19:40:30.695853Z"
    },
    "papermill": {
     "duration": 0.430336,
     "end_time": "2021-09-28T08:19:22.727866",
     "exception": false,
     "start_time": "2021-09-28T08:19:22.297530",
     "status": "completed"
    },
    "tags": []
   },
   "outputs": [
    {
     "name": "stderr",
     "output_type": "stream",
     "text": [
      "/opt/conda/lib/python3.7/site-packages/seaborn/distributions.py:2619: FutureWarning: `distplot` is a deprecated function and will be removed in a future version. Please adapt your code to use either `displot` (a figure-level function with similar flexibility) or `histplot` (an axes-level function for histograms).\n",
      "  warnings.warn(msg, FutureWarning)\n"
     ]
    },
    {
     "data": {
      "text/plain": [
       "<AxesSubplot:xlabel='selling_price', ylabel='Density'>"
      ]
     },
     "execution_count": 39,
     "metadata": {},
     "output_type": "execute_result"
    },
    {
     "data": {
      "image/png": "[encoded data removed]",
      "text/plain": [
       "<Figure size 432x288 with 1 Axes>"
      ]
     },
     "metadata": {
      "needs_background": "light"
     },
     "output_type": "display_data"
    }
   ],
   "source": [
    "sns.distplot(df['selling_price'])"
   ]
  },
  {
   "cell_type": "code",
   "execution_count": 40,
   "id": "4462e8c2",
   "metadata": {
    "execution": {
     "iopub.execute_input": "2021-09-28T08:19:22.874929Z",
     "iopub.status.busy": "2021-09-28T08:19:22.873967Z",
     "iopub.status.idle": "2021-09-28T08:19:23.185988Z",
     "shell.execute_reply": "2021-09-28T08:19:23.186521Z",
     "shell.execute_reply.started": "2021-09-27T19:40:31.077134Z"
    },
    "papermill": {
     "duration": 0.38601,
     "end_time": "2021-09-28T08:19:23.186693",
     "exception": false,
     "start_time": "2021-09-28T08:19:22.800683",
     "status": "completed"
    },
    "tags": []
   },
   "outputs": [
    {
     "name": "stderr",
     "output_type": "stream",
     "text": [
      "/opt/conda/lib/python3.7/site-packages/seaborn/distributions.py:2619: FutureWarning: `distplot` is a deprecated function and will be removed in a future version. Please adapt your code to use either `displot` (a figure-level function with similar flexibility) or `histplot` (an axes-level function for histograms).\n",
      "  warnings.warn(msg, FutureWarning)\n"
     ]
    },
    {
     "data": {
      "text/plain": [
       "<AxesSubplot:xlabel='km_driven', ylabel='Density'>"
      ]
     },
     "execution_count": 40,
     "metadata": {},
     "output_type": "execute_result"
    },
    {
     "data": {
      "image/png": "[encoded data removed]",
      "text/plain": [
       "<Figure size 432x288 with 1 Axes>"
      ]
     },
     "metadata": {
      "needs_background": "light"
     },
     "output_type": "display_data"
    }
   ],
   "source": [
    "sns.distplot(df['km_driven'])"
   ]
  },
  {
   "cell_type": "code",
   "execution_count": 41,
   "id": "fe169e72",
   "metadata": {
    "execution": {
     "iopub.execute_input": "2021-09-28T08:19:23.335620Z",
     "iopub.status.busy": "2021-09-28T08:19:23.334581Z",
     "iopub.status.idle": "2021-09-28T08:19:23.615544Z",
     "shell.execute_reply": "2021-09-28T08:19:23.616063Z",
     "shell.execute_reply.started": "2021-09-27T19:40:31.396453Z"
    },
    "papermill": {
     "duration": 0.357399,
     "end_time": "2021-09-28T08:19:23.616244",
     "exception": false,
     "start_time": "2021-09-28T08:19:23.258845",
     "status": "completed"
    },
    "tags": []
   },
   "outputs": [
    {
     "name": "stderr",
     "output_type": "stream",
     "text": [
      "/opt/conda/lib/python3.7/site-packages/seaborn/_decorators.py:43: FutureWarning: Pass the following variable as a keyword arg: x. From version 0.12, the only valid positional argument will be `data`, and passing other arguments without an explicit keyword will result in an error or misinterpretation.\n",
      "  FutureWarning\n"
     ]
    },
    {
     "data": {
      "text/plain": [
       "<AxesSubplot:xlabel='km_driven'>"
      ]
     },
     "execution_count": 41,
     "metadata": {},
     "output_type": "execute_result"
    },
    {
     "data": {
      "image/png": "[encoded data removed]",
      "text/plain": [
       "<Figure size 432x288 with 1 Axes>"
      ]
     },
     "metadata": {
      "needs_background": "light"
     },
     "output_type": "display_data"
    }
   ],
   "source": [
    "sns.boxplot(df['km_driven'])"
   ]
  },
  {
   "cell_type": "code",
   "execution_count": 42,
   "id": "665a874c",
   "metadata": {
    "execution": {
     "iopub.execute_input": "2021-09-28T08:19:23.778276Z",
     "iopub.status.busy": "2021-09-28T08:19:23.773002Z",
     "iopub.status.idle": "2021-09-28T08:19:23.977900Z",
     "shell.execute_reply": "2021-09-28T08:19:23.977163Z",
     "shell.execute_reply.started": "2021-09-27T19:40:31.651499Z"
    },
    "papermill": {
     "duration": 0.288628,
     "end_time": "2021-09-28T08:19:23.978063",
     "exception": false,
     "start_time": "2021-09-28T08:19:23.689435",
     "status": "completed"
    },
    "tags": []
   },
   "outputs": [
    {
     "name": "stderr",
     "output_type": "stream",
     "text": [
      "/opt/conda/lib/python3.7/site-packages/seaborn/_decorators.py:43: FutureWarning: Pass the following variable as a keyword arg: x. From version 0.12, the only valid positional argument will be `data`, and passing other arguments without an explicit keyword will result in an error or misinterpretation.\n",
      "  FutureWarning\n"
     ]
    },
    {
     "data": {
      "text/plain": [
       "<AxesSubplot:xlabel='fuel', ylabel='count'>"
      ]
     },
     "execution_count": 42,
     "metadata": {},
     "output_type": "execute_result"
    },
    {
     "data": {
      "image/png": "[encoded data removed]",
      "text/plain": [
       "<Figure size 432x288 with 1 Axes>"
      ]
     },
     "metadata": {
      "needs_background": "light"
     },
     "output_type": "display_data"
    }
   ],
   "source": [
    "sns.countplot(df['fuel'])\n",
    "\n",
    "## we will either remove or merge LPG&CNG"
   ]
  },
  {
   "cell_type": "code",
   "execution_count": 43,
   "id": "140f2e19",
   "metadata": {
    "execution": {
     "iopub.execute_input": "2021-09-28T08:19:24.133063Z",
     "iopub.status.busy": "2021-09-28T08:19:24.132393Z",
     "iopub.status.idle": "2021-09-28T08:19:24.330411Z",
     "shell.execute_reply": "2021-09-28T08:19:24.330889Z",
     "shell.execute_reply.started": "2021-09-27T19:40:31.829924Z"
    },
    "papermill": {
     "duration": 0.278713,
     "end_time": "2021-09-28T08:19:24.331082",
     "exception": false,
     "start_time": "2021-09-28T08:19:24.052369",
     "status": "completed"
    },
    "tags": []
   },
   "outputs": [
    {
     "name": "stderr",
     "output_type": "stream",
     "text": [
      "/opt/conda/lib/python3.7/site-packages/seaborn/_decorators.py:43: FutureWarning: Pass the following variable as a keyword arg: x. From version 0.12, the only valid positional argument will be `data`, and passing other arguments without an explicit keyword will result in an error or misinterpretation.\n",
      "  FutureWarning\n"
     ]
    },
    {
     "data": {
      "text/plain": [
       "<AxesSubplot:xlabel='seller_type', ylabel='count'>"
      ]
     },
     "execution_count": 43,
     "metadata": {},
     "output_type": "execute_result"
    },
    {
     "data": {
      "image/png": "[encoded data removed]",
      "text/plain": [
       "<Figure size 432x288 with 1 Axes>"
      ]
     },
     "metadata": {
      "needs_background": "light"
     },
     "output_type": "display_data"
    }
   ],
   "source": [
    " sns.countplot(df['seller_type'])\n",
    "    \n",
    "## we will merge Trustmark Dealer into Dealer"
   ]
  },
  {
   "cell_type": "code",
   "execution_count": 44,
   "id": "92deeceb",
   "metadata": {
    "execution": {
     "iopub.execute_input": "2021-09-28T08:19:24.491530Z",
     "iopub.status.busy": "2021-09-28T08:19:24.490839Z",
     "iopub.status.idle": "2021-09-28T08:19:24.681363Z",
     "shell.execute_reply": "2021-09-28T08:19:24.680839Z",
     "shell.execute_reply.started": "2021-09-27T19:40:32.000436Z"
    },
    "papermill": {
     "duration": 0.27204,
     "end_time": "2021-09-28T08:19:24.681509",
     "exception": false,
     "start_time": "2021-09-28T08:19:24.409469",
     "status": "completed"
    },
    "tags": []
   },
   "outputs": [
    {
     "name": "stderr",
     "output_type": "stream",
     "text": [
      "/opt/conda/lib/python3.7/site-packages/seaborn/_decorators.py:43: FutureWarning: Pass the following variable as a keyword arg: x. From version 0.12, the only valid positional argument will be `data`, and passing other arguments without an explicit keyword will result in an error or misinterpretation.\n",
      "  FutureWarning\n"
     ]
    },
    {
     "data": {
      "text/plain": [
       "<AxesSubplot:xlabel='transmission', ylabel='count'>"
      ]
     },
     "execution_count": 44,
     "metadata": {},
     "output_type": "execute_result"
    },
    {
     "data": {
      "image/png": "[encoded data removed]",
      "text/plain": [
       "<Figure size 432x288 with 1 Axes>"
      ]
     },
     "metadata": {
      "needs_background": "light"
     },
     "output_type": "display_data"
    }
   ],
   "source": [
    " sns.countplot(df['transmission'])"
   ]
  },
  {
   "cell_type": "code",
   "execution_count": 45,
   "id": "bf549808",
   "metadata": {
    "execution": {
     "iopub.execute_input": "2021-09-28T08:19:24.840023Z",
     "iopub.status.busy": "2021-09-28T08:19:24.839358Z",
     "iopub.status.idle": "2021-09-28T08:19:25.053008Z",
     "shell.execute_reply": "2021-09-28T08:19:25.052429Z",
     "shell.execute_reply.started": "2021-09-27T19:40:32.159619Z"
    },
    "papermill": {
     "duration": 0.294109,
     "end_time": "2021-09-28T08:19:25.053171",
     "exception": false,
     "start_time": "2021-09-28T08:19:24.759062",
     "status": "completed"
    },
    "tags": []
   },
   "outputs": [
    {
     "name": "stderr",
     "output_type": "stream",
     "text": [
      "/opt/conda/lib/python3.7/site-packages/seaborn/_decorators.py:43: FutureWarning: Pass the following variable as a keyword arg: x. From version 0.12, the only valid positional argument will be `data`, and passing other arguments without an explicit keyword will result in an error or misinterpretation.\n",
      "  FutureWarning\n"
     ]
    },
    {
     "data": {
      "image/png": "[encoded data removed]",
      "text/plain": [
       "<Figure size 432x288 with 1 Axes>"
      ]
     },
     "metadata": {
      "needs_background": "light"
     },
     "output_type": "display_data"
    }
   ],
   "source": [
    "sns.countplot(df['owner'])\n",
    "plt.xticks(rotation='vertical')\n",
    "plt.show()\n",
    "\n",
    "## we will remove Test Drive Car"
   ]
  },
  {
   "cell_type": "code",
   "execution_count": 46,
   "id": "f507fb8b",
   "metadata": {
    "execution": {
     "iopub.execute_input": "2021-09-28T08:19:25.239968Z",
     "iopub.status.busy": "2021-09-28T08:19:25.219546Z",
     "iopub.status.idle": "2021-09-28T08:19:25.581810Z",
     "shell.execute_reply": "2021-09-28T08:19:25.581250Z",
     "shell.execute_reply.started": "2021-09-27T19:40:32.346381Z"
    },
    "papermill": {
     "duration": 0.449753,
     "end_time": "2021-09-28T08:19:25.581952",
     "exception": false,
     "start_time": "2021-09-28T08:19:25.132199",
     "status": "completed"
    },
    "tags": []
   },
   "outputs": [
    {
     "name": "stderr",
     "output_type": "stream",
     "text": [
      "/opt/conda/lib/python3.7/site-packages/seaborn/distributions.py:2619: FutureWarning: `distplot` is a deprecated function and will be removed in a future version. Please adapt your code to use either `displot` (a figure-level function with similar flexibility) or `histplot` (an axes-level function for histograms).\n",
      "  warnings.warn(msg, FutureWarning)\n"
     ]
    },
    {
     "data": {
      "text/plain": [
       "<AxesSubplot:xlabel='mileage', ylabel='Density'>"
      ]
     },
     "execution_count": 46,
     "metadata": {},
     "output_type": "execute_result"
    },
    {
     "data": {
      "image/png": "[encoded data removed]",
      "text/plain": [
       "<Figure size 432x288 with 1 Axes>"
      ]
     },
     "metadata": {
      "needs_background": "light"
     },
     "output_type": "display_data"
    }
   ],
   "source": [
    "sns.distplot(df['mileage'])"
   ]
  },
  {
   "cell_type": "code",
   "execution_count": 47,
   "id": "f4b28d61",
   "metadata": {
    "execution": {
     "iopub.execute_input": "2021-09-28T08:19:25.752448Z",
     "iopub.status.busy": "2021-09-28T08:19:25.751760Z",
     "iopub.status.idle": "2021-09-28T08:19:25.921528Z",
     "shell.execute_reply": "2021-09-28T08:19:25.922050Z",
     "shell.execute_reply.started": "2021-09-27T19:40:32.69709Z"
    },
    "papermill": {
     "duration": 0.257448,
     "end_time": "2021-09-28T08:19:25.922222",
     "exception": false,
     "start_time": "2021-09-28T08:19:25.664774",
     "status": "completed"
    },
    "tags": []
   },
   "outputs": [
    {
     "name": "stderr",
     "output_type": "stream",
     "text": [
      "/opt/conda/lib/python3.7/site-packages/seaborn/_decorators.py:43: FutureWarning: Pass the following variable as a keyword arg: x. From version 0.12, the only valid positional argument will be `data`, and passing other arguments without an explicit keyword will result in an error or misinterpretation.\n",
      "  FutureWarning\n"
     ]
    },
    {
     "data": {
      "text/plain": [
       "<AxesSubplot:xlabel='mileage'>"
      ]
     },
     "execution_count": 47,
     "metadata": {},
     "output_type": "execute_result"
    },
    {
     "data": {
      "image/png": "[encoded data removed]",
      "text/plain": [
       "<Figure size 432x288 with 1 Axes>"
      ]
     },
     "metadata": {
      "needs_background": "light"
     },
     "output_type": "display_data"
    }
   ],
   "source": [
    "sns.boxplot(df['mileage'])\n",
    "\n",
    "#some outliers"
   ]
  },
  {
   "cell_type": "code",
   "execution_count": 48,
   "id": "a84b2297",
   "metadata": {
    "execution": {
     "iopub.execute_input": "2021-09-28T08:19:26.115489Z",
     "iopub.status.busy": "2021-09-28T08:19:26.114818Z",
     "iopub.status.idle": "2021-09-28T08:19:26.468868Z",
     "shell.execute_reply": "2021-09-28T08:19:26.468249Z",
     "shell.execute_reply.started": "2021-09-27T19:40:32.883535Z"
    },
    "papermill": {
     "duration": 0.464906,
     "end_time": "2021-09-28T08:19:26.469004",
     "exception": false,
     "start_time": "2021-09-28T08:19:26.004098",
     "status": "completed"
    },
    "tags": []
   },
   "outputs": [
    {
     "name": "stderr",
     "output_type": "stream",
     "text": [
      "/opt/conda/lib/python3.7/site-packages/seaborn/distributions.py:2619: FutureWarning: `distplot` is a deprecated function and will be removed in a future version. Please adapt your code to use either `displot` (a figure-level function with similar flexibility) or `histplot` (an axes-level function for histograms).\n",
      "  warnings.warn(msg, FutureWarning)\n"
     ]
    },
    {
     "data": {
      "text/plain": [
       "<AxesSubplot:xlabel='engine', ylabel='Density'>"
      ]
     },
     "execution_count": 48,
     "metadata": {},
     "output_type": "execute_result"
    },
    {
     "data": {
      "image/png": "[encoded data removed]",
      "text/plain": [
       "<Figure size 432x288 with 1 Axes>"
      ]
     },
     "metadata": {
      "needs_background": "light"
     },
     "output_type": "display_data"
    }
   ],
   "source": [
    "sns.distplot(df['engine'])"
   ]
  },
  {
   "cell_type": "code",
   "execution_count": 49,
   "id": "b2843f2a",
   "metadata": {
    "execution": {
     "iopub.execute_input": "2021-09-28T08:19:26.643650Z",
     "iopub.status.busy": "2021-09-28T08:19:26.642973Z",
     "iopub.status.idle": "2021-09-28T08:19:26.831232Z",
     "shell.execute_reply": "2021-09-28T08:19:26.831713Z",
     "shell.execute_reply.started": "2021-09-27T19:40:33.277241Z"
    },
    "papermill": {
     "duration": 0.278294,
     "end_time": "2021-09-28T08:19:26.831894",
     "exception": false,
     "start_time": "2021-09-28T08:19:26.553600",
     "status": "completed"
    },
    "tags": []
   },
   "outputs": [
    {
     "name": "stderr",
     "output_type": "stream",
     "text": [
      "/opt/conda/lib/python3.7/site-packages/seaborn/_decorators.py:43: FutureWarning: Pass the following variable as a keyword arg: x. From version 0.12, the only valid positional argument will be `data`, and passing other arguments without an explicit keyword will result in an error or misinterpretation.\n",
      "  FutureWarning\n"
     ]
    },
    {
     "data": {
      "text/plain": [
       "<AxesSubplot:xlabel='engine'>"
      ]
     },
     "execution_count": 49,
     "metadata": {},
     "output_type": "execute_result"
    },
    {
     "data": {
      "image/png": "[encoded data removed]",
      "text/plain": [
       "<Figure size 432x288 with 1 Axes>"
      ]
     },
     "metadata": {
      "needs_background": "light"
     },
     "output_type": "display_data"
    }
   ],
   "source": [
    "sns.boxplot(df['engine'])\n",
    "\n",
    "##unsure about outliers"
   ]
  },
  {
   "cell_type": "code",
   "execution_count": 50,
   "id": "0dc31ff7",
   "metadata": {
    "execution": {
     "iopub.execute_input": "2021-09-28T08:19:27.031686Z",
     "iopub.status.busy": "2021-09-28T08:19:27.008570Z",
     "iopub.status.idle": "2021-09-28T08:19:27.411104Z",
     "shell.execute_reply": "2021-09-28T08:19:27.410459Z",
     "shell.execute_reply.started": "2021-09-27T19:40:33.478279Z"
    },
    "papermill": {
     "duration": 0.493002,
     "end_time": "2021-09-28T08:19:27.411244",
     "exception": false,
     "start_time": "2021-09-28T08:19:26.918242",
     "status": "completed"
    },
    "tags": []
   },
   "outputs": [
    {
     "name": "stderr",
     "output_type": "stream",
     "text": [
      "/opt/conda/lib/python3.7/site-packages/seaborn/distributions.py:2619: FutureWarning: `distplot` is a deprecated function and will be removed in a future version. Please adapt your code to use either `displot` (a figure-level function with similar flexibility) or `histplot` (an axes-level function for histograms).\n",
      "  warnings.warn(msg, FutureWarning)\n"
     ]
    },
    {
     "data": {
      "text/plain": [
       "<AxesSubplot:xlabel='max_power', ylabel='Density'>"
      ]
     },
     "execution_count": 50,
     "metadata": {},
     "output_type": "execute_result"
    },
    {
     "data": {
      "image/png": "[encoded data removed]",
      "text/plain": [
       "<Figure size 432x288 with 1 Axes>"
      ]
     },
     "metadata": {
      "needs_background": "light"
     },
     "output_type": "display_data"
    }
   ],
   "source": [
    "sns.distplot(df['max_power'])"
   ]
  },
  {
   "cell_type": "code",
   "execution_count": 51,
   "id": "2c76e642",
   "metadata": {
    "execution": {
     "iopub.execute_input": "2021-09-28T08:19:27.611416Z",
     "iopub.status.busy": "2021-09-28T08:19:27.587921Z",
     "iopub.status.idle": "2021-09-28T08:19:27.789224Z",
     "shell.execute_reply": "2021-09-28T08:19:27.788223Z",
     "shell.execute_reply.started": "2021-09-27T19:40:33.892815Z"
    },
    "papermill": {
     "duration": 0.292537,
     "end_time": "2021-09-28T08:19:27.789373",
     "exception": false,
     "start_time": "2021-09-28T08:19:27.496836",
     "status": "completed"
    },
    "tags": []
   },
   "outputs": [
    {
     "name": "stderr",
     "output_type": "stream",
     "text": [
      "/opt/conda/lib/python3.7/site-packages/seaborn/_decorators.py:43: FutureWarning: Pass the following variable as a keyword arg: x. From version 0.12, the only valid positional argument will be `data`, and passing other arguments without an explicit keyword will result in an error or misinterpretation.\n",
      "  FutureWarning\n"
     ]
    },
    {
     "data": {
      "text/plain": [
       "<AxesSubplot:xlabel='max_power'>"
      ]
     },
     "execution_count": 51,
     "metadata": {},
     "output_type": "execute_result"
    },
    {
     "data": {
      "image/png": "[encoded data removed]",
      "text/plain": [
       "<Figure size 432x288 with 1 Axes>"
      ]
     },
     "metadata": {
      "needs_background": "light"
     },
     "output_type": "display_data"
    }
   ],
   "source": [
    "sns.boxplot(df['max_power'])"
   ]
  },
  {
   "cell_type": "code",
   "execution_count": 52,
   "id": "c47af1ce",
   "metadata": {
    "execution": {
     "iopub.execute_input": "2021-09-28T08:19:27.968263Z",
     "iopub.status.busy": "2021-09-28T08:19:27.967622Z",
     "iopub.status.idle": "2021-09-28T08:19:28.205640Z",
     "shell.execute_reply": "2021-09-28T08:19:28.205097Z",
     "shell.execute_reply.started": "2021-09-27T19:40:34.096919Z"
    },
    "papermill": {
     "duration": 0.329042,
     "end_time": "2021-09-28T08:19:28.205779",
     "exception": false,
     "start_time": "2021-09-28T08:19:27.876737",
     "status": "completed"
    },
    "tags": []
   },
   "outputs": [
    {
     "name": "stderr",
     "output_type": "stream",
     "text": [
      "/opt/conda/lib/python3.7/site-packages/seaborn/_decorators.py:43: FutureWarning: Pass the following variable as a keyword arg: x. From version 0.12, the only valid positional argument will be `data`, and passing other arguments without an explicit keyword will result in an error or misinterpretation.\n",
      "  FutureWarning\n"
     ]
    },
    {
     "data": {
      "text/plain": [
       "5     5254\n",
       "7      966\n",
       "8      221\n",
       "4      124\n",
       "9       74\n",
       "6       57\n",
       "10      18\n",
       "2        2\n",
       "14       1\n",
       "Name: seats, dtype: int64"
      ]
     },
     "execution_count": 52,
     "metadata": {},
     "output_type": "execute_result"
    },
    {
     "data": {
      "image/png": "[encoded data removed]",
      "text/plain": [
       "<Figure size 432x288 with 1 Axes>"
      ]
     },
     "metadata": {
      "needs_background": "light"
     },
     "output_type": "display_data"
    }
   ],
   "source": [
    "sns.countplot(df['seats'])\n",
    "df['seats'].value_counts()\n",
    "\n",
    "##can keep top4 categories"
   ]
  },
  {
   "cell_type": "code",
   "execution_count": 53,
   "id": "a3a30589",
   "metadata": {
    "execution": {
     "iopub.execute_input": "2021-09-28T08:19:28.386154Z",
     "iopub.status.busy": "2021-09-28T08:19:28.385106Z",
     "iopub.status.idle": "2021-09-28T08:19:28.735185Z",
     "shell.execute_reply": "2021-09-28T08:19:28.735720Z",
     "shell.execute_reply.started": "2021-09-27T19:40:34.342612Z"
    },
    "papermill": {
     "duration": 0.442252,
     "end_time": "2021-09-28T08:19:28.735904",
     "exception": false,
     "start_time": "2021-09-28T08:19:28.293652",
     "status": "completed"
    },
    "tags": []
   },
   "outputs": [
    {
     "name": "stderr",
     "output_type": "stream",
     "text": [
      "/opt/conda/lib/python3.7/site-packages/seaborn/distributions.py:2619: FutureWarning: `distplot` is a deprecated function and will be removed in a future version. Please adapt your code to use either `displot` (a figure-level function with similar flexibility) or `histplot` (an axes-level function for histograms).\n",
      "  warnings.warn(msg, FutureWarning)\n"
     ]
    },
    {
     "data": {
      "text/plain": [
       "<AxesSubplot:xlabel='old', ylabel='Density'>"
      ]
     },
     "execution_count": 53,
     "metadata": {},
     "output_type": "execute_result"
    },
    {
     "data": {
      "image/png": "[encoded data removed]",
      "text/plain": [
       "<Figure size 432x288 with 1 Axes>"
      ]
     },
     "metadata": {
      "needs_background": "light"
     },
     "output_type": "display_data"
    }
   ],
   "source": [
    "sns.distplot(df['old'])"
   ]
  },
  {
   "cell_type": "code",
   "execution_count": 54,
   "id": "f7fb7437",
   "metadata": {
    "execution": {
     "iopub.execute_input": "2021-09-28T08:19:28.917948Z",
     "iopub.status.busy": "2021-09-28T08:19:28.917302Z",
     "iopub.status.idle": "2021-09-28T08:19:29.092316Z",
     "shell.execute_reply": "2021-09-28T08:19:29.091766Z",
     "shell.execute_reply.started": "2021-09-27T19:40:34.721633Z"
    },
    "papermill": {
     "duration": 0.266744,
     "end_time": "2021-09-28T08:19:29.092476",
     "exception": false,
     "start_time": "2021-09-28T08:19:28.825732",
     "status": "completed"
    },
    "tags": []
   },
   "outputs": [
    {
     "name": "stderr",
     "output_type": "stream",
     "text": [
      "/opt/conda/lib/python3.7/site-packages/seaborn/_decorators.py:43: FutureWarning: Pass the following variable as a keyword arg: x. From version 0.12, the only valid positional argument will be `data`, and passing other arguments without an explicit keyword will result in an error or misinterpretation.\n",
      "  FutureWarning\n"
     ]
    },
    {
     "data": {
      "text/plain": [
       "<AxesSubplot:xlabel='old'>"
      ]
     },
     "execution_count": 54,
     "metadata": {},
     "output_type": "execute_result"
    },
    {
     "data": {
      "image/png": "[encoded data removed]",
      "text/plain": [
       "<Figure size 432x288 with 1 Axes>"
      ]
     },
     "metadata": {
      "needs_background": "light"
     },
     "output_type": "display_data"
    }
   ],
   "source": [
    "sns.boxplot(df['old'])\n",
    "\n",
    "#some outliers"
   ]
  },
  {
   "cell_type": "code",
   "execution_count": 55,
   "id": "bc873899",
   "metadata": {
    "execution": {
     "iopub.execute_input": "2021-09-28T08:19:29.281468Z",
     "iopub.status.busy": "2021-09-28T08:19:29.280651Z",
     "iopub.status.idle": "2021-09-28T08:19:29.283518Z",
     "shell.execute_reply": "2021-09-28T08:19:29.282879Z",
     "shell.execute_reply.started": "2021-09-27T19:40:34.902803Z"
    },
    "papermill": {
     "duration": 0.099889,
     "end_time": "2021-09-28T08:19:29.283656",
     "exception": false,
     "start_time": "2021-09-28T08:19:29.183767",
     "status": "completed"
    },
    "tags": []
   },
   "outputs": [],
   "source": [
    "## BI-VARIATE ANALYSIS"
   ]
  },
  {
   "cell_type": "code",
   "execution_count": 56,
   "id": "5c19efe9",
   "metadata": {
    "execution": {
     "iopub.execute_input": "2021-09-28T08:19:29.472344Z",
     "iopub.status.busy": "2021-09-28T08:19:29.469964Z",
     "iopub.status.idle": "2021-09-28T08:19:29.726635Z",
     "shell.execute_reply": "2021-09-28T08:19:29.727118Z",
     "shell.execute_reply.started": "2021-09-27T19:40:34.907559Z"
    },
    "papermill": {
     "duration": 0.352649,
     "end_time": "2021-09-28T08:19:29.727293",
     "exception": false,
     "start_time": "2021-09-28T08:19:29.374644",
     "status": "completed"
    },
    "tags": []
   },
   "outputs": [
    {
     "name": "stderr",
     "output_type": "stream",
     "text": [
      "/opt/conda/lib/python3.7/site-packages/seaborn/_decorators.py:43: FutureWarning: Pass the following variables as keyword args: x, y. From version 0.12, the only valid positional argument will be `data`, and passing other arguments without an explicit keyword will result in an error or misinterpretation.\n",
      "  FutureWarning\n"
     ]
    },
    {
     "data": {
      "text/plain": [
       "<AxesSubplot:xlabel='km_driven', ylabel='selling_price'>"
      ]
     },
     "execution_count": 56,
     "metadata": {},
     "output_type": "execute_result"
    },
    {
     "data": {
      "image/png": "[encoded data removed]",
      "text/plain": [
       "<Figure size 432x288 with 1 Axes>"
      ]
     },
     "metadata": {
      "needs_background": "light"
     },
     "output_type": "display_data"
    }
   ],
   "source": [
    "sns.scatterplot(df['km_driven'],df['selling_price'])\n",
    "\n",
    "\n",
    "##weird. almost no correlation"
   ]
  },
  {
   "cell_type": "code",
   "execution_count": 57,
   "id": "3a687949",
   "metadata": {
    "execution": {
     "iopub.execute_input": "2021-09-28T08:19:29.918512Z",
     "iopub.status.busy": "2021-09-28T08:19:29.917822Z",
     "iopub.status.idle": "2021-09-28T08:19:30.163947Z",
     "shell.execute_reply": "2021-09-28T08:19:30.163324Z",
     "shell.execute_reply.started": "2021-09-27T19:40:35.186585Z"
    },
    "papermill": {
     "duration": 0.343382,
     "end_time": "2021-09-28T08:19:30.164111",
     "exception": false,
     "start_time": "2021-09-28T08:19:29.820729",
     "status": "completed"
    },
    "tags": []
   },
   "outputs": [
    {
     "name": "stderr",
     "output_type": "stream",
     "text": [
      "/opt/conda/lib/python3.7/site-packages/seaborn/_decorators.py:43: FutureWarning: Pass the following variables as keyword args: x, y. From version 0.12, the only valid positional argument will be `data`, and passing other arguments without an explicit keyword will result in an error or misinterpretation.\n",
      "  FutureWarning\n"
     ]
    },
    {
     "data": {
      "text/plain": [
       "<AxesSubplot:xlabel='km_driven', ylabel='selling_price'>"
      ]
     },
     "execution_count": 57,
     "metadata": {},
     "output_type": "execute_result"
    },
    {
     "data": {
      "image/png": "[encoded data removed]",
      "text/plain": [
       "<Figure size 432x288 with 1 Axes>"
      ]
     },
     "metadata": {
      "needs_background": "light"
     },
     "output_type": "display_data"
    }
   ],
   "source": [
    "sns.scatterplot(df[df['km_driven']<50000]['km_driven'],df[df['selling_price'] <800000]['selling_price'])"
   ]
  },
  {
   "cell_type": "code",
   "execution_count": 58,
   "id": "440e1966",
   "metadata": {
    "execution": {
     "iopub.execute_input": "2021-09-28T08:19:30.361023Z",
     "iopub.status.busy": "2021-09-28T08:19:30.359289Z",
     "iopub.status.idle": "2021-09-28T08:19:30.708746Z",
     "shell.execute_reply": "2021-09-28T08:19:30.709273Z",
     "shell.execute_reply.started": "2021-09-27T19:40:35.481644Z"
    },
    "papermill": {
     "duration": 0.450635,
     "end_time": "2021-09-28T08:19:30.709444",
     "exception": false,
     "start_time": "2021-09-28T08:19:30.258809",
     "status": "completed"
    },
    "tags": []
   },
   "outputs": [
    {
     "name": "stderr",
     "output_type": "stream",
     "text": [
      "/opt/conda/lib/python3.7/site-packages/seaborn/_decorators.py:43: FutureWarning: Pass the following variables as keyword args: x, y. From version 0.12, the only valid positional argument will be `data`, and passing other arguments without an explicit keyword will result in an error or misinterpretation.\n",
      "  FutureWarning\n"
     ]
    },
    {
     "data": {
      "text/plain": [
       "<AxesSubplot:xlabel='km_driven', ylabel='selling_price'>"
      ]
     },
     "execution_count": 58,
     "metadata": {},
     "output_type": "execute_result"
    },
    {
     "data": {
      "image/png": "[encoded data removed]",
      "text/plain": [
       "<Figure size 432x288 with 1 Axes>"
      ]
     },
     "metadata": {
      "needs_background": "light"
     },
     "output_type": "display_data"
    }
   ],
   "source": [
    "sns.scatterplot(df[df['km_driven']<90000]['km_driven'],df[df['selling_price'] <1000000]['selling_price'])"
   ]
  },
  {
   "cell_type": "code",
   "execution_count": 59,
   "id": "e0c45768",
   "metadata": {
    "execution": {
     "iopub.execute_input": "2021-09-28T08:19:30.917407Z",
     "iopub.status.busy": "2021-09-28T08:19:30.916665Z",
     "iopub.status.idle": "2021-09-28T08:19:30.924150Z",
     "shell.execute_reply": "2021-09-28T08:19:30.923602Z",
     "shell.execute_reply.started": "2021-09-27T19:40:35.897276Z"
    },
    "papermill": {
     "duration": 0.113979,
     "end_time": "2021-09-28T08:19:30.924289",
     "exception": false,
     "start_time": "2021-09-28T08:19:30.810310",
     "status": "completed"
    },
    "tags": []
   },
   "outputs": [
    {
     "data": {
      "text/plain": [
       "selling_price    1.000000\n",
       "km_driven       -0.161265\n",
       "mileage         -0.108655\n",
       "engine           0.442772\n",
       "max_power        0.692323\n",
       "seats            0.158531\n",
       "old             -0.427335\n",
       "Name: selling_price, dtype: float64"
      ]
     },
     "execution_count": 59,
     "metadata": {},
     "output_type": "execute_result"
    }
   ],
   "source": [
    "df.corr()['selling_price']\n",
    "\n",
    "\n",
    "##very important to find out relation between sp & other columns"
   ]
  },
  {
   "cell_type": "code",
   "execution_count": 60,
   "id": "c599a14a",
   "metadata": {
    "execution": {
     "iopub.execute_input": "2021-09-28T08:19:31.136227Z",
     "iopub.status.busy": "2021-09-28T08:19:31.135445Z",
     "iopub.status.idle": "2021-09-28T08:19:31.462581Z",
     "shell.execute_reply": "2021-09-28T08:19:31.463495Z",
     "shell.execute_reply.started": "2021-09-27T19:45:40.196375Z"
    },
    "papermill": {
     "duration": 0.439888,
     "end_time": "2021-09-28T08:19:31.463670",
     "exception": false,
     "start_time": "2021-09-28T08:19:31.023782",
     "status": "completed"
    },
    "tags": []
   },
   "outputs": [
    {
     "name": "stderr",
     "output_type": "stream",
     "text": [
      "/opt/conda/lib/python3.7/site-packages/seaborn/_decorators.py:43: FutureWarning: Pass the following variables as keyword args: x, y. From version 0.12, the only valid positional argument will be `data`, and passing other arguments without an explicit keyword will result in an error or misinterpretation.\n",
      "  FutureWarning\n"
     ]
    },
    {
     "data": {
      "text/plain": [
       "<AxesSubplot:xlabel='fuel', ylabel='selling_price'>"
      ]
     },
     "execution_count": 60,
     "metadata": {},
     "output_type": "execute_result"
    },
    {
     "data": {
      "image/png": "[encoded data removed]",
      "text/plain": [
       "<Figure size 432x288 with 1 Axes>"
      ]
     },
     "metadata": {
      "needs_background": "light"
     },
     "output_type": "display_data"
    }
   ],
   "source": [
    "sns.barplot(df['fuel'],df['selling_price'])"
   ]
  },
  {
   "cell_type": "raw",
   "id": "9b87ade5",
   "metadata": {
    "papermill": {
     "duration": 0.100054,
     "end_time": "2021-09-28T08:19:31.665020",
     "exception": false,
     "start_time": "2021-09-28T08:19:31.564966",
     "status": "completed"
    },
    "tags": []
   },
   "source": []
  },
  {
   "cell_type": "code",
   "execution_count": 61,
   "id": "f6065711",
   "metadata": {
    "execution": {
     "iopub.execute_input": "2021-09-28T08:19:31.868955Z",
     "iopub.status.busy": "2021-09-28T08:19:31.867947Z",
     "iopub.status.idle": "2021-09-28T08:19:32.163690Z",
     "shell.execute_reply": "2021-09-28T08:19:32.164226Z",
     "shell.execute_reply.started": "2021-09-27T19:45:50.947698Z"
    },
    "papermill": {
     "duration": 0.399171,
     "end_time": "2021-09-28T08:19:32.164411",
     "exception": false,
     "start_time": "2021-09-28T08:19:31.765240",
     "status": "completed"
    },
    "tags": []
   },
   "outputs": [
    {
     "name": "stderr",
     "output_type": "stream",
     "text": [
      "/opt/conda/lib/python3.7/site-packages/seaborn/_decorators.py:43: FutureWarning: Pass the following variables as keyword args: x, y. From version 0.12, the only valid positional argument will be `data`, and passing other arguments without an explicit keyword will result in an error or misinterpretation.\n",
      "  FutureWarning\n"
     ]
    },
    {
     "data": {
      "text/plain": [
       "<AxesSubplot:xlabel='seller_type', ylabel='selling_price'>"
      ]
     },
     "execution_count": 61,
     "metadata": {},
     "output_type": "execute_result"
    },
    {
     "data": {
      "image/png": "[encoded data removed]",
      "text/plain": [
       "<Figure size 432x288 with 1 Axes>"
      ]
     },
     "metadata": {
      "needs_background": "light"
     },
     "output_type": "display_data"
    }
   ],
   "source": [
    "sns.barplot(df['seller_type'],df['selling_price'])"
   ]
  },
  {
   "cell_type": "code",
   "execution_count": 62,
   "id": "a92cda19",
   "metadata": {
    "execution": {
     "iopub.execute_input": "2021-09-28T08:19:32.374969Z",
     "iopub.status.busy": "2021-09-28T08:19:32.370011Z",
     "iopub.status.idle": "2021-09-28T08:19:32.630152Z",
     "shell.execute_reply": "2021-09-28T08:19:32.630625Z",
     "shell.execute_reply.started": "2021-09-27T19:50:23.587689Z"
    },
    "papermill": {
     "duration": 0.364938,
     "end_time": "2021-09-28T08:19:32.630828",
     "exception": false,
     "start_time": "2021-09-28T08:19:32.265890",
     "status": "completed"
    },
    "tags": []
   },
   "outputs": [
    {
     "name": "stderr",
     "output_type": "stream",
     "text": [
      "/opt/conda/lib/python3.7/site-packages/seaborn/_decorators.py:43: FutureWarning: Pass the following variables as keyword args: x, y. From version 0.12, the only valid positional argument will be `data`, and passing other arguments without an explicit keyword will result in an error or misinterpretation.\n",
      "  FutureWarning\n"
     ]
    },
    {
     "data": {
      "text/plain": [
       "<AxesSubplot:xlabel='transmission', ylabel='selling_price'>"
      ]
     },
     "execution_count": 62,
     "metadata": {},
     "output_type": "execute_result"
    },
    {
     "data": {
      "image/png": "[encoded data removed]",
      "text/plain": [
       "<Figure size 432x288 with 1 Axes>"
      ]
     },
     "metadata": {
      "needs_background": "light"
     },
     "output_type": "display_data"
    }
   ],
   "source": [
    "sns.barplot(df['transmission'],df['selling_price'])"
   ]
  },
  {
   "cell_type": "code",
   "execution_count": 63,
   "id": "32474078",
   "metadata": {
    "execution": {
     "iopub.execute_input": "2021-09-28T08:19:32.895920Z",
     "iopub.status.busy": "2021-09-28T08:19:32.894144Z",
     "iopub.status.idle": "2021-09-28T08:19:33.276382Z",
     "shell.execute_reply": "2021-09-28T08:19:33.276929Z",
     "shell.execute_reply.started": "2021-09-27T19:53:53.210543Z"
    },
    "papermill": {
     "duration": 0.492981,
     "end_time": "2021-09-28T08:19:33.277138",
     "exception": false,
     "start_time": "2021-09-28T08:19:32.784157",
     "status": "completed"
    },
    "tags": []
   },
   "outputs": [
    {
     "name": "stderr",
     "output_type": "stream",
     "text": [
      "/opt/conda/lib/python3.7/site-packages/seaborn/_decorators.py:43: FutureWarning: Pass the following variables as keyword args: x, y. From version 0.12, the only valid positional argument will be `data`, and passing other arguments without an explicit keyword will result in an error or misinterpretation.\n",
      "  FutureWarning\n"
     ]
    },
    {
     "data": {
      "text/plain": [
       "<AxesSubplot:xlabel='owner', ylabel='selling_price'>"
      ]
     },
     "execution_count": 63,
     "metadata": {},
     "output_type": "execute_result"
    },
    {
     "data": {
      "image/png": "[encoded data removed]",
      "text/plain": [
       "<Figure size 432x288 with 1 Axes>"
      ]
     },
     "metadata": {
      "needs_background": "light"
     },
     "output_type": "display_data"
    }
   ],
   "source": [
    "sns.barplot(df['owner'],df['selling_price'])"
   ]
  },
  {
   "cell_type": "code",
   "execution_count": 64,
   "id": "55435c2e",
   "metadata": {
    "execution": {
     "iopub.execute_input": "2021-09-28T08:19:33.496530Z",
     "iopub.status.busy": "2021-09-28T08:19:33.488308Z",
     "iopub.status.idle": "2021-09-28T08:19:33.830972Z",
     "shell.execute_reply": "2021-09-28T08:19:33.831485Z",
     "shell.execute_reply.started": "2021-09-27T19:54:32.431236Z"
    },
    "papermill": {
     "duration": 0.450483,
     "end_time": "2021-09-28T08:19:33.831674",
     "exception": false,
     "start_time": "2021-09-28T08:19:33.381191",
     "status": "completed"
    },
    "tags": []
   },
   "outputs": [
    {
     "name": "stderr",
     "output_type": "stream",
     "text": [
      "/opt/conda/lib/python3.7/site-packages/seaborn/_decorators.py:43: FutureWarning: Pass the following variables as keyword args: x, y. From version 0.12, the only valid positional argument will be `data`, and passing other arguments without an explicit keyword will result in an error or misinterpretation.\n",
      "  FutureWarning\n"
     ]
    },
    {
     "data": {
      "text/plain": [
       "<AxesSubplot:xlabel='owner', ylabel='selling_price'>"
      ]
     },
     "execution_count": 64,
     "metadata": {},
     "output_type": "execute_result"
    },
    {
     "data": {
      "image/png": "[encoded data removed]",
      "text/plain": [
       "<Figure size 432x288 with 1 Axes>"
      ]
     },
     "metadata": {
      "needs_background": "light"
     },
     "output_type": "display_data"
    }
   ],
   "source": [
    "sns.barplot(df[df['owner'] != 'Test Drive Car']['owner'],df['selling_price'])"
   ]
  },
  {
   "cell_type": "code",
   "execution_count": 65,
   "id": "81791d50",
   "metadata": {
    "execution": {
     "iopub.execute_input": "2021-09-28T08:19:34.047299Z",
     "iopub.status.busy": "2021-09-28T08:19:34.046325Z",
     "iopub.status.idle": "2021-09-28T08:19:34.253269Z",
     "shell.execute_reply": "2021-09-28T08:19:34.253862Z",
     "shell.execute_reply.started": "2021-09-27T19:59:20.664906Z"
    },
    "papermill": {
     "duration": 0.316535,
     "end_time": "2021-09-28T08:19:34.254066",
     "exception": false,
     "start_time": "2021-09-28T08:19:33.937531",
     "status": "completed"
    },
    "tags": []
   },
   "outputs": [
    {
     "name": "stderr",
     "output_type": "stream",
     "text": [
      "/opt/conda/lib/python3.7/site-packages/seaborn/_decorators.py:43: FutureWarning: Pass the following variables as keyword args: x, y. From version 0.12, the only valid positional argument will be `data`, and passing other arguments without an explicit keyword will result in an error or misinterpretation.\n",
      "  FutureWarning\n"
     ]
    },
    {
     "data": {
      "text/plain": [
       "<AxesSubplot:xlabel='mileage', ylabel='selling_price'>"
      ]
     },
     "execution_count": 65,
     "metadata": {},
     "output_type": "execute_result"
    },
    {
     "data": {
      "image/png": "[encoded data removed]",
      "text/plain": [
       "<Figure size 432x288 with 1 Axes>"
      ]
     },
     "metadata": {
      "needs_background": "light"
     },
     "output_type": "display_data"
    }
   ],
   "source": [
    "sns.scatterplot(df['mileage'],df['selling_price'])\n",
    "\n",
    "\n",
    "## sp is not much dependent on mileage ie weak correlation"
   ]
  },
  {
   "cell_type": "code",
   "execution_count": 66,
   "id": "598a488b",
   "metadata": {
    "execution": {
     "iopub.execute_input": "2021-09-28T08:19:34.473953Z",
     "iopub.status.busy": "2021-09-28T08:19:34.472938Z",
     "iopub.status.idle": "2021-09-28T08:19:34.704504Z",
     "shell.execute_reply": "2021-09-28T08:19:34.705001Z",
     "shell.execute_reply.started": "2021-09-27T19:59:58.257971Z"
    },
    "papermill": {
     "duration": 0.342952,
     "end_time": "2021-09-28T08:19:34.705219",
     "exception": false,
     "start_time": "2021-09-28T08:19:34.362267",
     "status": "completed"
    },
    "tags": []
   },
   "outputs": [
    {
     "name": "stderr",
     "output_type": "stream",
     "text": [
      "/opt/conda/lib/python3.7/site-packages/seaborn/_decorators.py:43: FutureWarning: Pass the following variables as keyword args: x, y. From version 0.12, the only valid positional argument will be `data`, and passing other arguments without an explicit keyword will result in an error or misinterpretation.\n",
      "  FutureWarning\n"
     ]
    },
    {
     "data": {
      "text/plain": [
       "<AxesSubplot:xlabel='engine', ylabel='selling_price'>"
      ]
     },
     "execution_count": 66,
     "metadata": {},
     "output_type": "execute_result"
    },
    {
     "data": {
      "image/png": "[encoded data removed]",
      "text/plain": [
       "<Figure size 432x288 with 1 Axes>"
      ]
     },
     "metadata": {
      "needs_background": "light"
     },
     "output_type": "display_data"
    }
   ],
   "source": [
    "sns.scatterplot(df['engine'],df['selling_price'])\n",
    "\n",
    "\n",
    "## okay okay correlation"
   ]
  },
  {
   "cell_type": "code",
   "execution_count": 67,
   "id": "3a54dadc",
   "metadata": {
    "execution": {
     "iopub.execute_input": "2021-09-28T08:19:34.928889Z",
     "iopub.status.busy": "2021-09-28T08:19:34.927831Z",
     "iopub.status.idle": "2021-09-28T08:19:35.155427Z",
     "shell.execute_reply": "2021-09-28T08:19:35.155893Z",
     "shell.execute_reply.started": "2021-09-27T20:00:22.55156Z"
    },
    "papermill": {
     "duration": 0.340289,
     "end_time": "2021-09-28T08:19:35.156102",
     "exception": false,
     "start_time": "2021-09-28T08:19:34.815813",
     "status": "completed"
    },
    "tags": []
   },
   "outputs": [
    {
     "name": "stderr",
     "output_type": "stream",
     "text": [
      "/opt/conda/lib/python3.7/site-packages/seaborn/_decorators.py:43: FutureWarning: Pass the following variables as keyword args: x, y. From version 0.12, the only valid positional argument will be `data`, and passing other arguments without an explicit keyword will result in an error or misinterpretation.\n",
      "  FutureWarning\n"
     ]
    },
    {
     "data": {
      "text/plain": [
       "<AxesSubplot:xlabel='max_power', ylabel='selling_price'>"
      ]
     },
     "execution_count": 67,
     "metadata": {},
     "output_type": "execute_result"
    },
    {
     "data": {
      "image/png": "[encoded data removed]",
      "text/plain": [
       "<Figure size 432x288 with 1 Axes>"
      ]
     },
     "metadata": {
      "needs_background": "light"
     },
     "output_type": "display_data"
    }
   ],
   "source": [
    "sns.scatterplot(df['max_power'],df['selling_price'])\n",
    "\n",
    "\n",
    "## stronger correlation"
   ]
  },
  {
   "cell_type": "code",
   "execution_count": 68,
   "id": "38c49066",
   "metadata": {
    "execution": {
     "iopub.execute_input": "2021-09-28T08:19:35.382082Z",
     "iopub.status.busy": "2021-09-28T08:19:35.381087Z",
     "iopub.status.idle": "2021-09-28T08:19:35.893921Z",
     "shell.execute_reply": "2021-09-28T08:19:35.893351Z",
     "shell.execute_reply.started": "2021-09-27T20:01:48.753811Z"
    },
    "papermill": {
     "duration": 0.62649,
     "end_time": "2021-09-28T08:19:35.894093",
     "exception": false,
     "start_time": "2021-09-28T08:19:35.267603",
     "status": "completed"
    },
    "tags": []
   },
   "outputs": [
    {
     "name": "stderr",
     "output_type": "stream",
     "text": [
      "/opt/conda/lib/python3.7/site-packages/seaborn/_decorators.py:43: FutureWarning: Pass the following variables as keyword args: x, y. From version 0.12, the only valid positional argument will be `data`, and passing other arguments without an explicit keyword will result in an error or misinterpretation.\n",
      "  FutureWarning\n"
     ]
    },
    {
     "data": {
      "text/plain": [
       "<AxesSubplot:xlabel='seats', ylabel='selling_price'>"
      ]
     },
     "execution_count": 68,
     "metadata": {},
     "output_type": "execute_result"
    },
    {
     "data": {
      "image/png": "[encoded data removed]",
      "text/plain": [
       "<Figure size 432x288 with 1 Axes>"
      ]
     },
     "metadata": {
      "needs_background": "light"
     },
     "output_type": "display_data"
    }
   ],
   "source": [
    "sns.barplot(df['seats'],df['selling_price'])\n",
    "\n",
    "\n",
    "## barplot cos seats is categorical data"
   ]
  },
  {
   "cell_type": "code",
   "execution_count": 69,
   "id": "61d1e40f",
   "metadata": {
    "execution": {
     "iopub.execute_input": "2021-09-28T08:19:36.127442Z",
     "iopub.status.busy": "2021-09-28T08:19:36.126755Z",
     "iopub.status.idle": "2021-09-28T08:19:37.364499Z",
     "shell.execute_reply": "2021-09-28T08:19:37.365026Z",
     "shell.execute_reply.started": "2021-09-27T20:02:19.371327Z"
    },
    "papermill": {
     "duration": 1.357237,
     "end_time": "2021-09-28T08:19:37.365217",
     "exception": false,
     "start_time": "2021-09-28T08:19:36.007980",
     "status": "completed"
    },
    "tags": []
   },
   "outputs": [
    {
     "name": "stderr",
     "output_type": "stream",
     "text": [
      "/opt/conda/lib/python3.7/site-packages/seaborn/_decorators.py:43: FutureWarning: Pass the following variables as keyword args: x, y. From version 0.12, the only valid positional argument will be `data`, and passing other arguments without an explicit keyword will result in an error or misinterpretation.\n",
      "  FutureWarning\n"
     ]
    },
    {
     "data": {
      "text/plain": [
       "<AxesSubplot:xlabel='old', ylabel='selling_price'>"
      ]
     },
     "execution_count": 69,
     "metadata": {},
     "output_type": "execute_result"
    },
    {
     "data": {
      "image/png": "[encoded data removed]",
      "text/plain": [
       "<Figure size 432x288 with 1 Axes>"
      ]
     },
     "metadata": {
      "needs_background": "light"
     },
     "output_type": "display_data"
    }
   ],
   "source": [
    "sns.barplot(df['old'],df['selling_price'])\n",
    "\n",
    "\n",
    "## barplot cos old is categorical data...stronger correlation"
   ]
  },
  {
   "cell_type": "code",
   "execution_count": 70,
   "id": "ff4baa95",
   "metadata": {
    "execution": {
     "iopub.execute_input": "2021-09-28T08:19:37.610452Z",
     "iopub.status.busy": "2021-09-28T08:19:37.609627Z",
     "iopub.status.idle": "2021-09-28T08:19:37.613020Z",
     "shell.execute_reply": "2021-09-28T08:19:37.613553Z",
     "shell.execute_reply.started": "2021-09-27T20:03:13.585919Z"
    },
    "papermill": {
     "duration": 0.134427,
     "end_time": "2021-09-28T08:19:37.613724",
     "exception": false,
     "start_time": "2021-09-28T08:19:37.479297",
     "status": "completed"
    },
    "tags": []
   },
   "outputs": [
    {
     "data": {
      "text/html": [
       "<div>\n",
       "<style scoped>\n",
       "    .dataframe tbody tr th:only-of-type {\n",
       "        vertical-align: middle;\n",
       "    }\n",
       "\n",
       "    .dataframe tbody tr th {\n",
       "        vertical-align: top;\n",
       "    }\n",
       "\n",
       "    .dataframe thead th {\n",
       "        text-align: right;\n",
       "    }\n",
       "</style>\n",
       "<table border=\"1\" class=\"dataframe\">\n",
       "  <thead>\n",
       "    <tr style=\"text-align: right;\">\n",
       "      <th></th>\n",
       "      <th>name</th>\n",
       "      <th>selling_price</th>\n",
       "      <th>km_driven</th>\n",
       "      <th>fuel</th>\n",
       "      <th>seller_type</th>\n",
       "      <th>transmission</th>\n",
       "      <th>owner</th>\n",
       "      <th>mileage</th>\n",
       "      <th>engine</th>\n",
       "      <th>max_power</th>\n",
       "      <th>seats</th>\n",
       "      <th>old</th>\n",
       "    </tr>\n",
       "  </thead>\n",
       "  <tbody>\n",
       "    <tr>\n",
       "      <th>0</th>\n",
       "      <td>Maruti Swift Dzire VDI</td>\n",
       "      <td>450000</td>\n",
       "      <td>145500</td>\n",
       "      <td>Diesel</td>\n",
       "      <td>Individual</td>\n",
       "      <td>Manual</td>\n",
       "      <td>First Owner</td>\n",
       "      <td>23.400000</td>\n",
       "      <td>1248</td>\n",
       "      <td>74.000000</td>\n",
       "      <td>5</td>\n",
       "      <td>6</td>\n",
       "    </tr>\n",
       "    <tr>\n",
       "      <th>1</th>\n",
       "      <td>Skoda Rapid 1.5 TDI Ambition</td>\n",
       "      <td>370000</td>\n",
       "      <td>120000</td>\n",
       "      <td>Diesel</td>\n",
       "      <td>Individual</td>\n",
       "      <td>Manual</td>\n",
       "      <td>Second Owner</td>\n",
       "      <td>21.139999</td>\n",
       "      <td>1498</td>\n",
       "      <td>103.519997</td>\n",
       "      <td>5</td>\n",
       "      <td>6</td>\n",
       "    </tr>\n",
       "    <tr>\n",
       "      <th>2</th>\n",
       "      <td>Honda City 2017-2020 EXi</td>\n",
       "      <td>158000</td>\n",
       "      <td>140000</td>\n",
       "      <td>Petrol</td>\n",
       "      <td>Individual</td>\n",
       "      <td>Manual</td>\n",
       "      <td>Third Owner</td>\n",
       "      <td>17.700001</td>\n",
       "      <td>1497</td>\n",
       "      <td>78.000000</td>\n",
       "      <td>5</td>\n",
       "      <td>14</td>\n",
       "    </tr>\n",
       "    <tr>\n",
       "      <th>3</th>\n",
       "      <td>Hyundai i20 Sportz Diesel</td>\n",
       "      <td>225000</td>\n",
       "      <td>127000</td>\n",
       "      <td>Diesel</td>\n",
       "      <td>Individual</td>\n",
       "      <td>Manual</td>\n",
       "      <td>First Owner</td>\n",
       "      <td>23.000000</td>\n",
       "      <td>1396</td>\n",
       "      <td>90.000000</td>\n",
       "      <td>5</td>\n",
       "      <td>10</td>\n",
       "    </tr>\n",
       "    <tr>\n",
       "      <th>4</th>\n",
       "      <td>Maruti Swift VXI BSIII</td>\n",
       "      <td>130000</td>\n",
       "      <td>120000</td>\n",
       "      <td>Petrol</td>\n",
       "      <td>Individual</td>\n",
       "      <td>Manual</td>\n",
       "      <td>First Owner</td>\n",
       "      <td>16.100000</td>\n",
       "      <td>1298</td>\n",
       "      <td>88.199997</td>\n",
       "      <td>5</td>\n",
       "      <td>13</td>\n",
       "    </tr>\n",
       "  </tbody>\n",
       "</table>\n",
       "</div>"
      ],
      "text/plain": [
       "                           name  selling_price  km_driven    fuel seller_type  \\\n",
       "0        Maruti Swift Dzire VDI         450000     145500  Diesel  Individual   \n",
       "1  Skoda Rapid 1.5 TDI Ambition         370000     120000  Diesel  Individual   \n",
       "2      Honda City 2017-2020 EXi         158000     140000  Petrol  Individual   \n",
       "3     Hyundai i20 Sportz Diesel         225000     127000  Diesel  Individual   \n",
       "4        Maruti Swift VXI BSIII         130000     120000  Petrol  Individual   \n",
       "\n",
       "  transmission         owner    mileage  engine   max_power  seats  old  \n",
       "0       Manual   First Owner  23.400000    1248   74.000000      5    6  \n",
       "1       Manual  Second Owner  21.139999    1498  103.519997      5    6  \n",
       "2       Manual   Third Owner  17.700001    1497   78.000000      5   14  \n",
       "3       Manual   First Owner  23.000000    1396   90.000000      5   10  \n",
       "4       Manual   First Owner  16.100000    1298   88.199997      5   13  "
      ]
     },
     "execution_count": 70,
     "metadata": {},
     "output_type": "execute_result"
    }
   ],
   "source": [
    "df.head()\n",
    "\n",
    "## km_driven and mileage do not really affect selling_price"
   ]
  },
  {
   "cell_type": "code",
   "execution_count": 71,
   "id": "1e33aee2",
   "metadata": {
    "execution": {
     "iopub.execute_input": "2021-09-28T08:19:37.848148Z",
     "iopub.status.busy": "2021-09-28T08:19:37.847220Z",
     "iopub.status.idle": "2021-09-28T08:19:38.145132Z",
     "shell.execute_reply": "2021-09-28T08:19:38.144575Z",
     "shell.execute_reply.started": "2021-09-27T20:04:54.0504Z"
    },
    "papermill": {
     "duration": 0.41649,
     "end_time": "2021-09-28T08:19:38.145285",
     "exception": false,
     "start_time": "2021-09-28T08:19:37.728795",
     "status": "completed"
    },
    "tags": []
   },
   "outputs": [
    {
     "data": {
      "text/plain": [
       "<AxesSubplot:>"
      ]
     },
     "execution_count": 71,
     "metadata": {},
     "output_type": "execute_result"
    },
    {
     "data": {
      "image/png": "[encoded data removed]",
      "text/plain": [
       "<Figure size 432x288 with 2 Axes>"
      ]
     },
     "metadata": {
      "needs_background": "light"
     },
     "output_type": "display_data"
    }
   ],
   "source": [
    "df.corr()\n",
    "sns.heatmap(df.corr())\n",
    "\n",
    "## helps to check correlation between columns/properties\n",
    "## ex: engine and max_power have a strong correlation"
   ]
  },
  {
   "cell_type": "code",
   "execution_count": 72,
   "id": "627334a6",
   "metadata": {
    "execution": {
     "iopub.execute_input": "2021-09-28T08:19:38.390170Z",
     "iopub.status.busy": "2021-09-28T08:19:38.389189Z",
     "iopub.status.idle": "2021-09-28T08:19:38.393470Z",
     "shell.execute_reply": "2021-09-28T08:19:38.392871Z",
     "shell.execute_reply.started": "2021-09-27T20:23:13.875958Z"
    },
    "papermill": {
     "duration": 0.131583,
     "end_time": "2021-09-28T08:19:38.393625",
     "exception": false,
     "start_time": "2021-09-28T08:19:38.262042",
     "status": "completed"
    },
    "tags": []
   },
   "outputs": [
    {
     "data": {
      "text/plain": [
       "0        Maruti\n",
       "1         Skoda\n",
       "2         Honda\n",
       "3       Hyundai\n",
       "4        Maruti\n",
       "         ...   \n",
       "8121     Maruti\n",
       "8122    Hyundai\n",
       "8123    Hyundai\n",
       "8124    Hyundai\n",
       "8125     Maruti\n",
       "Name: name, Length: 6717, dtype: object"
      ]
     },
     "execution_count": 72,
     "metadata": {},
     "output_type": "execute_result"
    }
   ],
   "source": [
    "df['name'].apply(lambda x:x.split()[0])"
   ]
  },
  {
   "cell_type": "code",
   "execution_count": 73,
   "id": "c33e1371",
   "metadata": {
    "execution": {
     "iopub.execute_input": "2021-09-28T08:19:38.639176Z",
     "iopub.status.busy": "2021-09-28T08:19:38.638092Z",
     "iopub.status.idle": "2021-09-28T08:19:38.650357Z",
     "shell.execute_reply": "2021-09-28T08:19:38.649756Z",
     "shell.execute_reply.started": "2021-09-27T20:23:24.860568Z"
    },
    "papermill": {
     "duration": 0.141513,
     "end_time": "2021-09-28T08:19:38.650515",
     "exception": false,
     "start_time": "2021-09-28T08:19:38.509002",
     "status": "completed"
    },
    "tags": []
   },
   "outputs": [],
   "source": [
    "df['brand']= df['name'].apply(lambda x:x.split()[0])"
   ]
  },
  {
   "cell_type": "code",
   "execution_count": 74,
   "id": "1d2e9cd2",
   "metadata": {
    "execution": {
     "iopub.execute_input": "2021-09-28T08:19:38.918104Z",
     "iopub.status.busy": "2021-09-28T08:19:38.917103Z",
     "iopub.status.idle": "2021-09-28T08:19:38.920634Z",
     "shell.execute_reply": "2021-09-28T08:19:38.921167Z",
     "shell.execute_reply.started": "2021-09-27T20:23:28.255432Z"
    },
    "papermill": {
     "duration": 0.135648,
     "end_time": "2021-09-28T08:19:38.921331",
     "exception": false,
     "start_time": "2021-09-28T08:19:38.785683",
     "status": "completed"
    },
    "tags": []
   },
   "outputs": [
    {
     "data": {
      "text/html": [
       "<div>\n",
       "<style scoped>\n",
       "    .dataframe tbody tr th:only-of-type {\n",
       "        vertical-align: middle;\n",
       "    }\n",
       "\n",
       "    .dataframe tbody tr th {\n",
       "        vertical-align: top;\n",
       "    }\n",
       "\n",
       "    .dataframe thead th {\n",
       "        text-align: right;\n",
       "    }\n",
       "</style>\n",
       "<table border=\"1\" class=\"dataframe\">\n",
       "  <thead>\n",
       "    <tr style=\"text-align: right;\">\n",
       "      <th></th>\n",
       "      <th>name</th>\n",
       "      <th>selling_price</th>\n",
       "      <th>km_driven</th>\n",
       "      <th>fuel</th>\n",
       "      <th>seller_type</th>\n",
       "      <th>transmission</th>\n",
       "      <th>owner</th>\n",
       "      <th>mileage</th>\n",
       "      <th>engine</th>\n",
       "      <th>max_power</th>\n",
       "      <th>seats</th>\n",
       "      <th>old</th>\n",
       "      <th>brand</th>\n",
       "    </tr>\n",
       "  </thead>\n",
       "  <tbody>\n",
       "    <tr>\n",
       "      <th>0</th>\n",
       "      <td>Maruti Swift Dzire VDI</td>\n",
       "      <td>450000</td>\n",
       "      <td>145500</td>\n",
       "      <td>Diesel</td>\n",
       "      <td>Individual</td>\n",
       "      <td>Manual</td>\n",
       "      <td>First Owner</td>\n",
       "      <td>23.400000</td>\n",
       "      <td>1248</td>\n",
       "      <td>74.000000</td>\n",
       "      <td>5</td>\n",
       "      <td>6</td>\n",
       "      <td>Maruti</td>\n",
       "    </tr>\n",
       "    <tr>\n",
       "      <th>1</th>\n",
       "      <td>Skoda Rapid 1.5 TDI Ambition</td>\n",
       "      <td>370000</td>\n",
       "      <td>120000</td>\n",
       "      <td>Diesel</td>\n",
       "      <td>Individual</td>\n",
       "      <td>Manual</td>\n",
       "      <td>Second Owner</td>\n",
       "      <td>21.139999</td>\n",
       "      <td>1498</td>\n",
       "      <td>103.519997</td>\n",
       "      <td>5</td>\n",
       "      <td>6</td>\n",
       "      <td>Skoda</td>\n",
       "    </tr>\n",
       "    <tr>\n",
       "      <th>2</th>\n",
       "      <td>Honda City 2017-2020 EXi</td>\n",
       "      <td>158000</td>\n",
       "      <td>140000</td>\n",
       "      <td>Petrol</td>\n",
       "      <td>Individual</td>\n",
       "      <td>Manual</td>\n",
       "      <td>Third Owner</td>\n",
       "      <td>17.700001</td>\n",
       "      <td>1497</td>\n",
       "      <td>78.000000</td>\n",
       "      <td>5</td>\n",
       "      <td>14</td>\n",
       "      <td>Honda</td>\n",
       "    </tr>\n",
       "    <tr>\n",
       "      <th>3</th>\n",
       "      <td>Hyundai i20 Sportz Diesel</td>\n",
       "      <td>225000</td>\n",
       "      <td>127000</td>\n",
       "      <td>Diesel</td>\n",
       "      <td>Individual</td>\n",
       "      <td>Manual</td>\n",
       "      <td>First Owner</td>\n",
       "      <td>23.000000</td>\n",
       "      <td>1396</td>\n",
       "      <td>90.000000</td>\n",
       "      <td>5</td>\n",
       "      <td>10</td>\n",
       "      <td>Hyundai</td>\n",
       "    </tr>\n",
       "    <tr>\n",
       "      <th>4</th>\n",
       "      <td>Maruti Swift VXI BSIII</td>\n",
       "      <td>130000</td>\n",
       "      <td>120000</td>\n",
       "      <td>Petrol</td>\n",
       "      <td>Individual</td>\n",
       "      <td>Manual</td>\n",
       "      <td>First Owner</td>\n",
       "      <td>16.100000</td>\n",
       "      <td>1298</td>\n",
       "      <td>88.199997</td>\n",
       "      <td>5</td>\n",
       "      <td>13</td>\n",
       "      <td>Maruti</td>\n",
       "    </tr>\n",
       "  </tbody>\n",
       "</table>\n",
       "</div>"
      ],
      "text/plain": [
       "                           name  selling_price  km_driven    fuel seller_type  \\\n",
       "0        Maruti Swift Dzire VDI         450000     145500  Diesel  Individual   \n",
       "1  Skoda Rapid 1.5 TDI Ambition         370000     120000  Diesel  Individual   \n",
       "2      Honda City 2017-2020 EXi         158000     140000  Petrol  Individual   \n",
       "3     Hyundai i20 Sportz Diesel         225000     127000  Diesel  Individual   \n",
       "4        Maruti Swift VXI BSIII         130000     120000  Petrol  Individual   \n",
       "\n",
       "  transmission         owner    mileage  engine   max_power  seats  old  \\\n",
       "0       Manual   First Owner  23.400000    1248   74.000000      5    6   \n",
       "1       Manual  Second Owner  21.139999    1498  103.519997      5    6   \n",
       "2       Manual   Third Owner  17.700001    1497   78.000000      5   14   \n",
       "3       Manual   First Owner  23.000000    1396   90.000000      5   10   \n",
       "4       Manual   First Owner  16.100000    1298   88.199997      5   13   \n",
       "\n",
       "     brand  \n",
       "0   Maruti  \n",
       "1    Skoda  \n",
       "2    Honda  \n",
       "3  Hyundai  \n",
       "4   Maruti  "
      ]
     },
     "execution_count": 74,
     "metadata": {},
     "output_type": "execute_result"
    }
   ],
   "source": [
    "df.head()"
   ]
  },
  {
   "cell_type": "code",
   "execution_count": 75,
   "id": "ef59500c",
   "metadata": {
    "execution": {
     "iopub.execute_input": "2021-09-28T08:19:39.159525Z",
     "iopub.status.busy": "2021-09-28T08:19:39.158537Z",
     "iopub.status.idle": "2021-09-28T08:19:39.167593Z",
     "shell.execute_reply": "2021-09-28T08:19:39.168067Z",
     "shell.execute_reply.started": "2021-09-27T20:23:58.038679Z"
    },
    "papermill": {
     "duration": 0.131525,
     "end_time": "2021-09-28T08:19:39.168241",
     "exception": false,
     "start_time": "2021-09-28T08:19:39.036716",
     "status": "completed"
    },
    "tags": []
   },
   "outputs": [
    {
     "data": {
      "text/plain": [
       "Maruti           2089\n",
       "Hyundai          1214\n",
       "Mahindra          709\n",
       "Tata              633\n",
       "Honda             361\n",
       "Ford              353\n",
       "Toyota            324\n",
       "Chevrolet         216\n",
       "Renault           206\n",
       "Volkswagen        173\n",
       "Nissan             73\n",
       "Skoda              69\n",
       "Datsun             57\n",
       "Mercedes-Benz      46\n",
       "BMW                45\n",
       "Fiat               39\n",
       "Audi               33\n",
       "Jeep               22\n",
       "Mitsubishi         11\n",
       "Volvo               9\n",
       "Jaguar              8\n",
       "Isuzu               4\n",
       "Ambassador          4\n",
       "Force               4\n",
       "Land                3\n",
       "Kia                 3\n",
       "Daewoo              3\n",
       "MG                  3\n",
       "Ashok               1\n",
       "Lexus               1\n",
       "Opel                1\n",
       "Name: brand, dtype: int64"
      ]
     },
     "execution_count": 75,
     "metadata": {},
     "output_type": "execute_result"
    }
   ],
   "source": [
    "df['brand'].value_counts()"
   ]
  },
  {
   "cell_type": "code",
   "execution_count": 76,
   "id": "8febac8b",
   "metadata": {
    "execution": {
     "iopub.execute_input": "2021-09-28T08:19:39.407290Z",
     "iopub.status.busy": "2021-09-28T08:19:39.404483Z",
     "iopub.status.idle": "2021-09-28T08:19:39.412546Z",
     "shell.execute_reply": "2021-09-28T08:19:39.411797Z",
     "shell.execute_reply.started": "2021-09-27T20:25:25.496831Z"
    },
    "papermill": {
     "duration": 0.127842,
     "end_time": "2021-09-28T08:19:39.412706",
     "exception": false,
     "start_time": "2021-09-28T08:19:39.284864",
     "status": "completed"
    },
    "tags": []
   },
   "outputs": [],
   "source": [
    "df.drop(columns=['name'],inplace=True)"
   ]
  },
  {
   "cell_type": "code",
   "execution_count": 77,
   "id": "7cbb1878",
   "metadata": {
    "execution": {
     "iopub.execute_input": "2021-09-28T08:19:39.654027Z",
     "iopub.status.busy": "2021-09-28T08:19:39.652988Z",
     "iopub.status.idle": "2021-09-28T08:19:39.669397Z",
     "shell.execute_reply": "2021-09-28T08:19:39.668865Z",
     "shell.execute_reply.started": "2021-09-27T20:26:24.641914Z"
    },
    "papermill": {
     "duration": 0.136814,
     "end_time": "2021-09-28T08:19:39.669543",
     "exception": false,
     "start_time": "2021-09-28T08:19:39.532729",
     "status": "completed"
    },
    "tags": []
   },
   "outputs": [
    {
     "data": {
      "text/html": [
       "<div>\n",
       "<style scoped>\n",
       "    .dataframe tbody tr th:only-of-type {\n",
       "        vertical-align: middle;\n",
       "    }\n",
       "\n",
       "    .dataframe tbody tr th {\n",
       "        vertical-align: top;\n",
       "    }\n",
       "\n",
       "    .dataframe thead th {\n",
       "        text-align: right;\n",
       "    }\n",
       "</style>\n",
       "<table border=\"1\" class=\"dataframe\">\n",
       "  <thead>\n",
       "    <tr style=\"text-align: right;\">\n",
       "      <th></th>\n",
       "      <th>selling_price</th>\n",
       "      <th>km_driven</th>\n",
       "      <th>fuel</th>\n",
       "      <th>seller_type</th>\n",
       "      <th>transmission</th>\n",
       "      <th>owner</th>\n",
       "      <th>mileage</th>\n",
       "      <th>engine</th>\n",
       "      <th>max_power</th>\n",
       "      <th>seats</th>\n",
       "      <th>old</th>\n",
       "      <th>brand</th>\n",
       "    </tr>\n",
       "  </thead>\n",
       "  <tbody>\n",
       "    <tr>\n",
       "      <th>0</th>\n",
       "      <td>450000</td>\n",
       "      <td>145500</td>\n",
       "      <td>Diesel</td>\n",
       "      <td>Individual</td>\n",
       "      <td>Manual</td>\n",
       "      <td>First Owner</td>\n",
       "      <td>23.400000</td>\n",
       "      <td>1248</td>\n",
       "      <td>74.000000</td>\n",
       "      <td>5</td>\n",
       "      <td>6</td>\n",
       "      <td>Maruti</td>\n",
       "    </tr>\n",
       "    <tr>\n",
       "      <th>1</th>\n",
       "      <td>370000</td>\n",
       "      <td>120000</td>\n",
       "      <td>Diesel</td>\n",
       "      <td>Individual</td>\n",
       "      <td>Manual</td>\n",
       "      <td>Second Owner</td>\n",
       "      <td>21.139999</td>\n",
       "      <td>1498</td>\n",
       "      <td>103.519997</td>\n",
       "      <td>5</td>\n",
       "      <td>6</td>\n",
       "      <td>Skoda</td>\n",
       "    </tr>\n",
       "    <tr>\n",
       "      <th>2</th>\n",
       "      <td>158000</td>\n",
       "      <td>140000</td>\n",
       "      <td>Petrol</td>\n",
       "      <td>Individual</td>\n",
       "      <td>Manual</td>\n",
       "      <td>Third Owner</td>\n",
       "      <td>17.700001</td>\n",
       "      <td>1497</td>\n",
       "      <td>78.000000</td>\n",
       "      <td>5</td>\n",
       "      <td>14</td>\n",
       "      <td>Honda</td>\n",
       "    </tr>\n",
       "    <tr>\n",
       "      <th>3</th>\n",
       "      <td>225000</td>\n",
       "      <td>127000</td>\n",
       "      <td>Diesel</td>\n",
       "      <td>Individual</td>\n",
       "      <td>Manual</td>\n",
       "      <td>First Owner</td>\n",
       "      <td>23.000000</td>\n",
       "      <td>1396</td>\n",
       "      <td>90.000000</td>\n",
       "      <td>5</td>\n",
       "      <td>10</td>\n",
       "      <td>Hyundai</td>\n",
       "    </tr>\n",
       "    <tr>\n",
       "      <th>4</th>\n",
       "      <td>130000</td>\n",
       "      <td>120000</td>\n",
       "      <td>Petrol</td>\n",
       "      <td>Individual</td>\n",
       "      <td>Manual</td>\n",
       "      <td>First Owner</td>\n",
       "      <td>16.100000</td>\n",
       "      <td>1298</td>\n",
       "      <td>88.199997</td>\n",
       "      <td>5</td>\n",
       "      <td>13</td>\n",
       "      <td>Maruti</td>\n",
       "    </tr>\n",
       "  </tbody>\n",
       "</table>\n",
       "</div>"
      ],
      "text/plain": [
       "   selling_price  km_driven    fuel seller_type transmission         owner  \\\n",
       "0         450000     145500  Diesel  Individual       Manual   First Owner   \n",
       "1         370000     120000  Diesel  Individual       Manual  Second Owner   \n",
       "2         158000     140000  Petrol  Individual       Manual   Third Owner   \n",
       "3         225000     127000  Diesel  Individual       Manual   First Owner   \n",
       "4         130000     120000  Petrol  Individual       Manual   First Owner   \n",
       "\n",
       "     mileage  engine   max_power  seats  old    brand  \n",
       "0  23.400000    1248   74.000000      5    6   Maruti  \n",
       "1  21.139999    1498  103.519997      5    6    Skoda  \n",
       "2  17.700001    1497   78.000000      5   14    Honda  \n",
       "3  23.000000    1396   90.000000      5   10  Hyundai  \n",
       "4  16.100000    1298   88.199997      5   13   Maruti  "
      ]
     },
     "execution_count": 77,
     "metadata": {},
     "output_type": "execute_result"
    }
   ],
   "source": [
    "df.head()"
   ]
  },
  {
   "cell_type": "code",
   "execution_count": null,
   "id": "8607c1be",
   "metadata": {
    "papermill": {
     "duration": 0.118165,
     "end_time": "2021-09-28T08:19:39.904793",
     "exception": false,
     "start_time": "2021-09-28T08:19:39.786628",
     "status": "completed"
    },
    "tags": []
   },
   "outputs": [],
   "source": []
  }
 ],
 "metadata": {
  "kernelspec": {
   "display_name": "Python 3",
   "language": "python",
   "name": "python3"
  },
  "language_info": {
   "codemirror_mode": {
    "name": "ipython",
    "version": 3
   },
   "file_extension": ".py",
   "mimetype": "text/x-python",
   "name": "python",
   "nbconvert_exporter": "python",
   "pygments_lexer": "ipython3",
   "version": "3.7.10"
  },
  "papermill": {
   "default_parameters": {},
   "duration": 35.036473,
   "end_time": "2021-09-28T08:19:41.533242",
   "environment_variables": {},
   "exception": null,
   "input_path": "__notebook__.ipynb",
   "output_path": "__notebook__.ipynb",
   "parameters": {},
   "start_time": "2021-09-28T08:19:06.496769",
   "version": "2.3.3"
  }
 },
 "nbformat": 4,
 "nbformat_minor": 5
}
